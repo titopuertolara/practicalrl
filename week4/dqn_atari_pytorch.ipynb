{
  "nbformat": 4,
  "nbformat_minor": 0,
  "metadata": {
    "colab": {
      "name": "dqn_atari_pytorch.ipynb",
      "provenance": []
    },
    "language_info": {
      "name": "python"
    },
    "kernelspec": {
      "name": "python3",
      "display_name": "Python 3"
    },
    "accelerator": "GPU"
  },
  "cells": [
    {
      "cell_type": "markdown",
      "metadata": {
        "id": "OwpPfmNlHQvJ"
      },
      "source": [
        "# Deep Q-Network implementation.\n",
        "\n",
        "This homework shamelessly demands you to implement a DQN - an approximate q-learning algorithm with experience replay and target networks - and see if it works any better this way.\n",
        "\n",
        "Original paper:\n",
        "https://arxiv.org/pdf/1312.5602.pdf"
      ]
    },
    {
      "cell_type": "code",
      "metadata": {
        "colab": {
          "base_uri": "https://localhost:8080/"
        },
        "id": "Y6CLz4REHQvL",
        "outputId": "d07517e0-8a6d-4a57-d9ed-04d5c2b22edd"
      },
      "source": [
        "import sys, os\n",
        "if 'google.colab' in sys.modules and not os.path.exists('.setup_complete'):\n",
        "    !wget -q https://raw.githubusercontent.com/yandexdataschool/Practical_RL/master/setup_colab.sh -O- | bash\n",
        "    \n",
        "    !wget -q https://raw.githubusercontent.com/yandexdataschool/Practical_RL/coursera/grading.py -O ../grading.py\n",
        "    !wget -q https://raw.githubusercontent.com/yandexdataschool/Practical_RL/coursera/week4_approx/submit.py\n",
        "    !wget -q https://raw.githubusercontent.com/yandexdataschool/Practical_RL/coursera/week4_approx/framebuffer.py\n",
        "    !wget -q https://raw.githubusercontent.com/yandexdataschool/Practical_RL/coursera/week4_approx/replay_buffer.py\n",
        "    !wget -q https://raw.githubusercontent.com/yandexdataschool/Practical_RL/coursera/week4_approx/atari_wrappers.py\n",
        "    !wget -q https://raw.githubusercontent.com/yandexdataschool/Practical_RL/coursera/week4_approx/utils.py\n",
        "\n",
        "    !touch .setup_complete\n",
        "\n",
        "# This code creates a virtual display to draw game images on.\n",
        "# It will have no effect if your machine has a monitor.\n",
        "if type(os.environ.get(\"DISPLAY\")) is not str or len(os.environ.get(\"DISPLAY\")) == 0:\n",
        "    !bash ../xvfb start\n",
        "    os.environ['DISPLAY'] = ':1'"
      ],
      "execution_count": 1,
      "outputs": [
        {
          "output_type": "stream",
          "text": [
            "Selecting previously unselected package xvfb.\n",
            "(Reading database ... 160837 files and directories currently installed.)\n",
            "Preparing to unpack .../xvfb_2%3a1.19.6-1ubuntu4.9_amd64.deb ...\n",
            "Unpacking xvfb (2:1.19.6-1ubuntu4.9) ...\n",
            "Setting up xvfb (2:1.19.6-1ubuntu4.9) ...\n",
            "Processing triggers for man-db (2.8.3-2ubuntu0.1) ...\n",
            "Starting virtual X frame buffer: Xvfb.\n"
          ],
          "name": "stdout"
        }
      ]
    },
    {
      "cell_type": "markdown",
      "metadata": {
        "id": "f9y3Ur3rHQvN"
      },
      "source": [
        "__Frameworks__ - we'll accept this homework in any deep learning framework. This particular notebook was designed for pytoch, but you find it easy to adapt it to almost any python-based deep learning framework."
      ]
    },
    {
      "cell_type": "code",
      "metadata": {
        "id": "WESqNQIyHQvO"
      },
      "source": [
        "import random\n",
        "import numpy as np\n",
        "import torch\n",
        "import utils"
      ],
      "execution_count": 2,
      "outputs": []
    },
    {
      "cell_type": "code",
      "metadata": {
        "id": "dUNdopPQHQvO"
      },
      "source": [
        "import gym\n",
        "import numpy as np\n",
        "import matplotlib.pyplot as plt\n",
        "%matplotlib inline"
      ],
      "execution_count": 3,
      "outputs": []
    },
    {
      "cell_type": "markdown",
      "metadata": {
        "id": "OUzThxDcHQvP"
      },
      "source": [
        "### Let's play some old videogames\n",
        "![img](https://github.com/yandexdataschool/Practical_RL/raw/master/yet_another_week/_resource/nerd.png)\n",
        "\n",
        "This time we're gonna apply approximate q-learning to an Atari game called Breakout. It's not the hardest thing out there, but it's definitely way more complex than anything we tried before.\n"
      ]
    },
    {
      "cell_type": "code",
      "metadata": {
        "id": "zPhPD95HHQvP"
      },
      "source": [
        "ENV_NAME = \"BreakoutNoFrameskip-v4\""
      ],
      "execution_count": 4,
      "outputs": []
    },
    {
      "cell_type": "markdown",
      "metadata": {
        "id": "Zt-3MWprHQvQ"
      },
      "source": [
        "## Preprocessing"
      ]
    },
    {
      "cell_type": "markdown",
      "metadata": {
        "id": "_mZ112BCHQvQ"
      },
      "source": [
        "Let's see what observations look like."
      ]
    },
    {
      "cell_type": "code",
      "metadata": {
        "colab": {
          "base_uri": "https://localhost:8080/",
          "height": 520
        },
        "id": "vKt7w2dEHQvQ",
        "outputId": "1aadd9e0-02c3-4208-96ba-eb672da420c5"
      },
      "source": [
        "env = gym.make(ENV_NAME)\n",
        "env.reset()\n",
        "\n",
        "n_cols = 5\n",
        "n_rows = 2\n",
        "fig = plt.figure(figsize=(16, 9))\n",
        "\n",
        "for row in range(n_rows):\n",
        "    for col in range(n_cols):\n",
        "        ax = fig.add_subplot(n_rows, n_cols, row * n_cols + col + 1)\n",
        "        ax.imshow(env.render('rgb_array'))\n",
        "        env.step(env.action_space.sample())\n",
        "plt.show()"
      ],
      "execution_count": 5,
      "outputs": [
        {
          "output_type": "display_data",
          "data": {
            "image/png": "[encoded data removed]",
            "text/plain": [
              "<Figure size 1152x648 with 10 Axes>"
            ]
          },
          "metadata": {
            "tags": [],
            "needs_background": "light"
          }
        }
      ]
    },
    {
      "cell_type": "markdown",
      "metadata": {
        "id": "GxyxzDsSHQvR"
      },
      "source": [
        "**Let's play a little.**\n",
        "\n",
        "Pay attention to zoom and fps args of play function. Control: A, D, space."
      ]
    },
    {
      "cell_type": "code",
      "metadata": {
        "id": "xasAIb9SHQvR"
      },
      "source": [
        "# # does not work in Colab.\n",
        "# # make keyboard interrupt to continue\n",
        "\n",
        "# from gym.utils.play import play\n",
        "\n",
        "# play(env=gym.make(ENV_NAME), zoom=5, fps=30)"
      ],
      "execution_count": 6,
      "outputs": []
    },
    {
      "cell_type": "markdown",
      "metadata": {
        "id": "bxcjranqHQvR"
      },
      "source": [
        "### Processing game image \n",
        "\n",
        "Raw Atari images are large, 210x160x3 by default. However, we don't need that level of detail in order to learn them.\n",
        "\n",
        "We can thus save a lot of time by preprocessing game image, including\n",
        "* Resizing to a smaller shape, 64 x 64\n",
        "* Converting to grayscale\n",
        "* Cropping irrelevant image parts (top, bottom and edges)\n",
        "\n",
        "Also please keep one dimension for channel so that final shape would be 1 x 64 x 64.\n",
        "\n",
        "Tip: You can implement your own grayscale converter and assign a huge weight to the red channel. This dirty trick is not necessary but it will speed up learning."
      ]
    },
    {
      "cell_type": "code",
      "metadata": {
        "id": "ui56W7NhHQvS"
      },
      "source": [
        "from gym.core import ObservationWrapper\n",
        "from gym.spaces import Box\n",
        "\n",
        "\n",
        "from gym.core import ObservationWrapper\n",
        "from gym.spaces import Box\n",
        "from PIL import Image, ImageOps\n",
        "import cv2\n",
        "class PreprocessAtariObs(ObservationWrapper):\n",
        "    def __init__(self, env):\n",
        "        \"\"\"A gym wrapper that crops, scales image into the desired shapes and grayscales it.\"\"\"\n",
        "        ObservationWrapper.__init__(self, env)\n",
        "\n",
        "        self.img_size = (1, 64, 64)\n",
        "        self.observation_space = Box(0.0, 1.0, self.img_size)\n",
        "\n",
        "\n",
        "    def _to_gray_scale(self, rgb, channel_weights=[0.8, 0.1, 0.1]):\n",
        "      \n",
        "      return cv2.cvtColor(rgb, cv2.COLOR_BGR2GRAY)\n",
        "\n",
        "\n",
        "    def observation(self, img):\n",
        "        \"\"\"what happens to each observation\"\"\"\n",
        "\n",
        "        # Here's what you need to do:\n",
        "        #  * crop image, remove irrelevant parts\n",
        "        #  * resize image to self.img_size\n",
        "        #     (use imresize from any library you want,\n",
        "        #      e.g. opencv, skimage, PIL, keras)\n",
        "        #  * cast image to grayscale\n",
        "        #  * convert image pixels to (0,1) range, float32 type\n",
        "\n",
        "        img=img[15:200,:,:]\n",
        "        \n",
        "        img=cv2.resize(img,(self.img_size[1],self.img_size[2]))\n",
        "        gray=self._to_gray_scale(img)\n",
        "        norm_image = cv2.normalize(gray, None, alpha=0, beta=1, norm_type=cv2.NORM_MINMAX, dtype=cv2.CV_32F)\n",
        "        \n",
        "        out=np.array(torch.tensor(norm_image,dtype=torch.float32).unsqueeze(0))\n",
        "        return out\n",
        "        \n",
        "        "
      ],
      "execution_count": 7,
      "outputs": []
    },
    {
      "cell_type": "code",
      "metadata": {
        "colab": {
          "base_uri": "https://localhost:8080/",
          "height": 489
        },
        "id": "hn5ZesXsHQvS",
        "outputId": "ee6d8b8e-5269-4f87-85cb-4247de9fefe3"
      },
      "source": [
        "import gym\n",
        "# spawn game instance for tests\n",
        "env = gym.make(ENV_NAME)  # create raw env\n",
        "env = PreprocessAtariObs(env)\n",
        "observation_shape = env.observation_space.shape\n",
        "n_actions = env.action_space.n\n",
        "env.reset()\n",
        "obs, _, _, _ = env.step(env.action_space.sample())\n",
        "\n",
        "# test observation\n",
        "assert obs.ndim == 3, \"observation must be [channel, h, w] even if there's just one channel\"\n",
        "assert obs.shape == observation_shape\n",
        "assert obs.dtype == 'float32'\n",
        "assert len(np.unique(obs)) > 2, \"your image must not be binary\"\n",
        "assert 0 <= np.min(obs) and np.max(\n",
        "    obs) <= 1, \"convert image pixels to [0,1] range\"\n",
        "\n",
        "assert np.max(obs) >= 0.5, \"It would be easier to see a brighter observation\"\n",
        "assert np.mean(obs) >= 0.1, \"It would be easier to see a brighter observation\"\n",
        "\n",
        "print(\"Formal tests seem fine. Here's an example of what you'll get.\")\n",
        "\n",
        "n_cols = 5\n",
        "n_rows = 2\n",
        "fig = plt.figure(figsize=(16, 9))\n",
        "obs = env.reset()\n",
        "for row in range(n_rows):\n",
        "    for col in range(n_cols):\n",
        "        ax = fig.add_subplot(n_rows, n_cols, row * n_cols + col + 1)\n",
        "        ax.imshow(obs[0, :, :], interpolation='none', cmap='gray')\n",
        "        obs, _, _, _ = env.step(env.action_space.sample())\n",
        "plt.show()\n"
      ],
      "execution_count": 8,
      "outputs": [
        {
          "output_type": "stream",
          "text": [
            "Formal tests seem fine. Here's an example of what you'll get.\n"
          ],
          "name": "stdout"
        },
        {
          "output_type": "display_data",
          "data": {
            "image/png": "[encoded data removed]",
            "text/plain": [
              "<Figure size 1152x648 with 10 Axes>"
            ]
          },
          "metadata": {
            "tags": [],
            "needs_background": "light"
          }
        }
      ]
    },
    {
      "cell_type": "markdown",
      "metadata": {
        "id": "mFNdP74aHQvT"
      },
      "source": [
        "### Wrapping."
      ]
    },
    {
      "cell_type": "markdown",
      "metadata": {
        "id": "IjV9QqWRHQvU"
      },
      "source": [
        "**About the game:** You have 5 lives and get points for breaking the wall. Higher bricks cost more than the lower ones. There are 4 actions: start game (should be called at the beginning and after each life is lost), move left, move right and do nothing. There are some common wrappers used for Atari environments."
      ]
    },
    {
      "cell_type": "code",
      "metadata": {
        "id": "KFGb2o1QHQvU"
      },
      "source": [
        "%load_ext autoreload\n",
        "%autoreload 2\n",
        "import atari_wrappers\n",
        "\n",
        "def PrimaryAtariWrap(env, clip_rewards=True):\n",
        "    assert 'NoFrameskip' in env.spec.id\n",
        "\n",
        "    # This wrapper holds the same action for <skip> frames and outputs\n",
        "    # the maximal pixel value of 2 last frames (to handle blinking\n",
        "    # in some envs)\n",
        "    env = atari_wrappers.MaxAndSkipEnv(env, skip=4)\n",
        "\n",
        "    # This wrapper sends done=True when each life is lost\n",
        "    # (not all the 5 lives that are givern by the game rules).\n",
        "    # It should make easier for the agent to understand that losing is bad.\n",
        "    env = atari_wrappers.EpisodicLifeEnv(env)\n",
        "\n",
        "    # This wrapper laucnhes the ball when an episode starts.\n",
        "    # Without it the agent has to learn this action, too.\n",
        "    # Actually it can but learning would take longer.\n",
        "    env = atari_wrappers.FireResetEnv(env)\n",
        "\n",
        "    # This wrapper transforms rewards to {-1, 0, 1} according to their sign\n",
        "    if clip_rewards:\n",
        "        env = atari_wrappers.ClipRewardEnv(env)\n",
        "\n",
        "    # This wrapper is yours :)\n",
        "    env = PreprocessAtariObs(env)\n",
        "    return env"
      ],
      "execution_count": 9,
      "outputs": []
    },
    {
      "cell_type": "markdown",
      "metadata": {
        "id": "ADPWF0bZHQvV"
      },
      "source": [
        "**Let's see if the game is still playable after applying the wrappers.**\n",
        "At playing the EpisodicLifeEnv wrapper seems not to work but actually it does (because after when life finishes a new ball is dropped automatically - it means that FireResetEnv wrapper understands that a new episode began)."
      ]
    },
    {
      "cell_type": "code",
      "metadata": {
        "id": "1--4luMzHQvV"
      },
      "source": [
        "# # does not work in Colab.\n",
        "# # make keyboard interrupt to continue\n",
        "\n",
        "# from gym.utils.play import play\n",
        "\n",
        "# def make_play_env():\n",
        "#     env = gym.make(ENV_NAME)\n",
        "#     env = PrimaryAtariWrap(env)\n",
        "# # in torch imgs have shape [c, h, w] instead of common [h, w, c]\n",
        "#     env = atari_wrappers.AntiTorchWrapper(env)\n",
        "#     return env\n",
        "\n",
        "# play(make_play_env(), zoom=10, fps=3)"
      ],
      "execution_count": 10,
      "outputs": []
    },
    {
      "cell_type": "markdown",
      "metadata": {
        "id": "bHp82m8AHQvV"
      },
      "source": [
        "### Frame buffer\n",
        "\n",
        "Our agent can only process one observation at a time, so we gotta make sure it contains enough information to find optimal actions. For instance, agent has to react to moving objects so he must be able to measure object's velocity.\n",
        "\n",
        "To do so, we introduce a buffer that stores 4 last images. This time everything is pre-implemented for you, not really by the staff of the course :)"
      ]
    },
    {
      "cell_type": "code",
      "metadata": {
        "id": "KOg_DcMAHQvV"
      },
      "source": [
        "from framebuffer import FrameBuffer\n",
        "\n",
        "def make_env(clip_rewards=True, seed=None):\n",
        "    env = gym.make(ENV_NAME)  # create raw env\n",
        "    if seed is not None:\n",
        "        env.seed(seed)\n",
        "    env = PrimaryAtariWrap(env, clip_rewards)\n",
        "    env = FrameBuffer(env, n_frames=4, dim_order='pytorch')\n",
        "    return env\n",
        "\n",
        "env = make_env()\n",
        "env.reset()\n",
        "n_actions = env.action_space.n\n",
        "state_shape = env.observation_space.shape"
      ],
      "execution_count": 10,
      "outputs": []
    },
    {
      "cell_type": "code",
      "metadata": {
        "colab": {
          "base_uri": "https://localhost:8080/",
          "height": 1000
        },
        "id": "lkvHqlaTHQvW",
        "outputId": "01f5a53d-abb8-4da9-9681-0efa3c318f94"
      },
      "source": [
        "for _ in range(12):\n",
        "    obs, _, _, _ = env.step(env.action_space.sample())\n",
        "\n",
        "plt.figure(figsize=[12,10])\n",
        "plt.title(\"Game image\")\n",
        "plt.imshow(env.render(\"rgb_array\"))\n",
        "plt.show()\n",
        "\n",
        "plt.figure(figsize=[15,15])\n",
        "plt.title(\"Agent observation (4 frames top to bottom)\")\n",
        "plt.imshow(utils.img_by_obs(obs, state_shape), cmap='gray')\n",
        "plt.show()"
      ],
      "execution_count": 11,
      "outputs": [
        {
          "output_type": "display_data",
          "data": {
            "image/png": "[encoded data removed]",
            "text/plain": [
              "<Figure size 864x720 with 1 Axes>"
            ]
          },
          "metadata": {
            "tags": [],
            "needs_background": "light"
          }
        },
        {
          "output_type": "display_data",
          "data": {
            "image/png": "[encoded data removed]",
            "text/plain": [
              "<Figure size 1080x1080 with 1 Axes>"
            ]
          },
          "metadata": {
            "tags": [],
            "needs_background": "light"
          }
        }
      ]
    },
    {
      "cell_type": "markdown",
      "metadata": {
        "id": "8XvGd4rhHQvW"
      },
      "source": [
        "## DQN as it is"
      ]
    },
    {
      "cell_type": "markdown",
      "metadata": {
        "id": "5giR_BOLHQvW"
      },
      "source": [
        "### Building a network\n",
        "\n",
        "We now need to build a neural network that can map images to state q-values. This network will be called on every agent's step so it better not be resnet-152 unless you have an array of GPUs. Instead, you can use strided convolutions with a small number of features to save time and memory.\n",
        "\n",
        "You can build any architecture you want, but for reference, here's something that will more or less work:"
      ]
    },
    {
      "cell_type": "markdown",
      "metadata": {
        "id": "wIhvN5fXHQvW"
      },
      "source": [
        "![img](https://github.com/yandexdataschool/Practical_RL/raw/master/yet_another_week/_resource/dqn_arch.png)"
      ]
    },
    {
      "cell_type": "code",
      "metadata": {
        "colab": {
          "base_uri": "https://localhost:8080/"
        },
        "id": "LkvYC2LaHQvX",
        "outputId": "3bb650e6-14ba-45ca-a45c-d38d724505e3"
      },
      "source": [
        "import torch\n",
        "import torch.nn as nn\n",
        "device = torch.device('cuda' if torch.cuda.is_available() else 'cpu')\n",
        "# those who have a GPU but feel unfair to use it can uncomment:\n",
        "# device = torch.device('cpu')\n",
        "device"
      ],
      "execution_count": 12,
      "outputs": [
        {
          "output_type": "execute_result",
          "data": {
            "text/plain": [
              "device(type='cuda')"
            ]
          },
          "metadata": {
            "tags": []
          },
          "execution_count": 12
        }
      ]
    },
    {
      "cell_type": "code",
      "metadata": {
        "id": "0lEZzMuJHQvX"
      },
      "source": [
        "def conv2d_size_out(size, kernel_size, stride):\n",
        "    \"\"\"\n",
        "    common use case:\n",
        "    cur_layer_img_w = conv2d_size_out(cur_layer_img_w, kernel_size, stride)\n",
        "    cur_layer_img_h = conv2d_size_out(cur_layer_img_h, kernel_size, stride)\n",
        "    to understand the shape for dense layer's input\n",
        "    \"\"\"\n",
        "    return (size - (kernel_size - 1) - 1) // stride  + 1\n"
      ],
      "execution_count": 13,
      "outputs": []
    },
    {
      "cell_type": "code",
      "metadata": {
        "id": "tYQAKlL8HQvX"
      },
      "source": [
        "class DQNAgent(nn.Module):\n",
        "    def __init__(self, state_shape, n_actions, epsilon=0):\n",
        "\n",
        "        super().__init__()\n",
        "        self.epsilon = epsilon\n",
        "        self.n_actions = n_actions\n",
        "        self.state_shape = state_shape\n",
        "\n",
        "        # Define your network body here. Please make sure agent is fully contained here\n",
        "        # nn.Flatten() can be useful\n",
        "        self.conv1=nn.Conv2d(in_channels=4,out_channels=16,kernel_size=3,stride=2)\n",
        "        self.relu1=nn.ReLU()\n",
        "        self.conv2=nn.Conv2d(in_channels=16,out_channels=32,kernel_size=3,stride=2)\n",
        "        self.relu2=nn.ReLU()\n",
        "        self.conv3=nn.Conv2d(in_channels=32,out_channels=64,kernel_size=3,stride=2)\n",
        "        self.relu3=nn.ReLU()\n",
        "        self.fc1=nn.Linear(in_features=7*7*64,out_features=256)\n",
        "        self.relu4=nn.ReLU()\n",
        "        self.fc2=nn.Linear(in_features=256,out_features=n_actions)        \n",
        "\n",
        "    def forward(self, state_t):\n",
        "        \"\"\"\n",
        "        takes agent's observation (tensor), returns qvalues (tensor)\n",
        "        :param state_t: a batch of 4-frame buffers, shape = [batch_size, 4, h, w]\n",
        "        \"\"\"\n",
        "        # Use your network to compute qvalues for given state\n",
        "        out=self.conv1(state_t)\n",
        "        \n",
        "        out=self.relu1(out)\n",
        "        \n",
        "        out=self.conv2(out)\n",
        "        \n",
        "        out=self.relu2(out)\n",
        "        \n",
        "        out=self.conv3(out)\n",
        "        \n",
        "        out=self.relu3(out)\n",
        "        out=out.view(out.size(0),-1)\n",
        "        \n",
        "        out=self.fc1(out)\n",
        "        ou=self.relu4(out)\n",
        "        \n",
        "        qvalues =self.fc2(out)\n",
        "       \n",
        "\n",
        "        assert qvalues.requires_grad, \"qvalues must be a torch tensor with grad\"\n",
        "        assert len(\n",
        "            qvalues.shape) == 2 and qvalues.shape[0] == state_t.shape[0] and qvalues.shape[1] == n_actions\n",
        "\n",
        "        return qvalues\n",
        "\n",
        "    def get_qvalues(self, states):\n",
        "        \"\"\"\n",
        "        like forward, but works on numpy arrays, not tensors\n",
        "        \"\"\"\n",
        "        model_device = next(self.parameters()).device\n",
        "        states = torch.tensor(states, device=model_device, dtype=torch.float)\n",
        "        qvalues = self.forward(states)\n",
        "        return qvalues.data.cpu().numpy()\n",
        "\n",
        "    def sample_actions(self, qvalues):\n",
        "        \"\"\"pick actions given qvalues. Uses epsilon-greedy exploration strategy. \"\"\"\n",
        "        epsilon = self.epsilon\n",
        "        batch_size, n_actions = qvalues.shape\n",
        "\n",
        "        random_actions = np.random.choice(n_actions, size=batch_size)\n",
        "        best_actions = qvalues.argmax(axis=-1)\n",
        "\n",
        "        should_explore = np.random.choice(\n",
        "            [0, 1], batch_size, p=[1-epsilon, epsilon])\n",
        "        return np.where(should_explore, random_actions, best_actions)"
      ],
      "execution_count": 14,
      "outputs": []
    },
    {
      "cell_type": "code",
      "metadata": {
        "id": "o1TyzBchHQvY"
      },
      "source": [
        "agent = DQNAgent(state_shape, n_actions, epsilon=0.5).to(device)"
      ],
      "execution_count": 15,
      "outputs": []
    },
    {
      "cell_type": "markdown",
      "metadata": {
        "id": "YTdhnDbGHQvY"
      },
      "source": [
        "Now let's try out our agent to see if it raises any errors."
      ]
    },
    {
      "cell_type": "code",
      "metadata": {
        "id": "jH0xbNOyHQvY"
      },
      "source": [
        "def evaluate(env, agent, n_games=1, greedy=False, t_max=10000):\n",
        "    \"\"\" Plays n_games full games. If greedy, picks actions as argmax(qvalues). Returns mean reward. \"\"\"\n",
        "    rewards = []\n",
        "    for _ in range(n_games):\n",
        "        s = env.reset()\n",
        "        reward = 0\n",
        "        for _ in range(t_max):\n",
        "            qvalues = agent.get_qvalues([s])\n",
        "            \n",
        "            action = qvalues.argmax(axis=-1)[0] if greedy else agent.sample_actions(qvalues)[0]\n",
        "            s, r, done, _ = env.step(action)\n",
        "            reward += r\n",
        "            if done:\n",
        "                break\n",
        "\n",
        "        rewards.append(reward)\n",
        "       \n",
        "    return np.mean(rewards)"
      ],
      "execution_count": 16,
      "outputs": []
    },
    {
      "cell_type": "code",
      "metadata": {
        "colab": {
          "base_uri": "https://localhost:8080/"
        },
        "id": "mnmA2pv6HQvZ",
        "outputId": "fdfc6e1e-2102-4cc4-b7ff-54ebb1c3c116"
      },
      "source": [
        "evaluate(env, agent, n_games=1)"
      ],
      "execution_count": 17,
      "outputs": [
        {
          "output_type": "execute_result",
          "data": {
            "text/plain": [
              "0.0"
            ]
          },
          "metadata": {
            "tags": []
          },
          "execution_count": 17
        }
      ]
    },
    {
      "cell_type": "markdown",
      "metadata": {
        "id": "jgR-A25CHQvZ"
      },
      "source": [
        "### Experience replay\n",
        "\n",
        "![img](https://github.com/yandexdataschool/Practical_RL/raw/master/yet_another_week/_resource/exp_replay.png)"
      ]
    },
    {
      "cell_type": "markdown",
      "metadata": {
        "id": "bN5lkNSiHQvZ"
      },
      "source": [
        "#### The interface is fairly simple:\n",
        "* `exp_replay.add(obs, act, rw, next_obs, done)` - saves (s,a,r,s',done) tuple into the buffer\n",
        "* `exp_replay.sample(batch_size)` - returns observations, actions, rewards, next_observations and is_done for `batch_size` random samples.\n",
        "* `len(exp_replay)` - returns number of elements stored in replay buffer."
      ]
    },
    {
      "cell_type": "code",
      "metadata": {
        "id": "1M5YLqYwHQvZ"
      },
      "source": [
        "from replay_buffer import ReplayBuffer\n",
        "exp_replay = ReplayBuffer(10)\n",
        "\n",
        "for _ in range(30):\n",
        "    exp_replay.add(env.reset(), env.action_space.sample(),\n",
        "                   1.0, env.reset(), done=False)\n",
        "\n",
        "obs_batch, act_batch, reward_batch, next_obs_batch, is_done_batch = exp_replay.sample(\n",
        "    5)\n",
        "\n",
        "assert len(exp_replay) == 10, \"experience replay size should be 10 because that's what maximum capacity is\""
      ],
      "execution_count": 18,
      "outputs": []
    },
    {
      "cell_type": "code",
      "metadata": {
        "id": "P5mXDhIWHQvZ"
      },
      "source": [
        "def play_and_record(initial_state, agent, env, exp_replay, n_steps=1):\n",
        "    \"\"\"\n",
        "    Play the game for exactly n steps, record every (s,a,r,s', done) to replay buffer. \n",
        "    Whenever game ends, add record with done=True and reset the game.\n",
        "    It is guaranteed that env has done=False when passed to this function.\n",
        "\n",
        "    PLEASE DO NOT RESET ENV UNLESS IT IS \"DONE\"\n",
        "\n",
        "    :returns: return sum of rewards over time and the state in which the env stays\n",
        "    \"\"\"\n",
        "    s = initial_state\n",
        "    sum_rewards = 0\n",
        "\n",
        "    # Play the game for n_steps as per instructions above\n",
        "    for _ in range(n_steps):\n",
        "      \n",
        "      q=agent(torch.tensor(s).unsqueeze(0).to(device))\n",
        "      \n",
        "      action=agent.sample_actions(q.cpu().detach().numpy())\n",
        "      action=action[0]\n",
        "     \n",
        "      next_s, r, done, _ = env.step(action)\n",
        "      exp_replay.add(s,action,r,next_s,done)\n",
        "      sum_rewards+=r\n",
        "      if done==True:\n",
        "        s=env.reset()\n",
        "      else:\n",
        "        s=next_s\n",
        "\n",
        "\n",
        "\n",
        "\n",
        "    return sum_rewards, s"
      ],
      "execution_count": 43,
      "outputs": []
    },
    {
      "cell_type": "code",
      "metadata": {
        "colab": {
          "base_uri": "https://localhost:8080/"
        },
        "id": "8qYvJEVCHQva",
        "outputId": "17b27e20-53f3-4e05-c1d9-b68c622a3ca0"
      },
      "source": [
        "# testing your code.\n",
        "exp_replay = ReplayBuffer(2000)\n",
        "\n",
        "state = env.reset()\n",
        "play_and_record(state, agent, env, exp_replay, n_steps=1000)\n",
        "\n",
        "# if you're using your own experience replay buffer, some of those tests may need correction.\n",
        "# just make sure you know what your code does\n",
        "assert len(exp_replay) == 1000, \"play_and_record should have added exactly 1000 steps, \"\\\n",
        "                                 \"but instead added %i\" % len(exp_replay)\n",
        "is_dones = list(zip(*exp_replay._storage))[-1]\n",
        "\n",
        "assert 0 < np.mean(is_dones) < 0.1, \"Please make sure you restart the game whenever it is 'done' and record the is_done correctly into the buffer.\"\\\n",
        "                                    \"Got %f is_done rate over %i steps. [If you think it's your tough luck, just re-run the test]\" % (\n",
        "                                        np.mean(is_dones), len(exp_replay))\n",
        "\n",
        "for _ in range(100):\n",
        "    obs_batch, act_batch, reward_batch, next_obs_batch, is_done_batch = exp_replay.sample(\n",
        "        10)\n",
        "    assert obs_batch.shape == next_obs_batch.shape == (10,) + state_shape\n",
        "    assert act_batch.shape == (\n",
        "        10,), \"actions batch should have shape (10,) but is instead %s\" % str(act_batch.shape)\n",
        "    assert reward_batch.shape == (\n",
        "        10,), \"rewards batch should have shape (10,) but is instead %s\" % str(reward_batch.shape)\n",
        "    assert is_done_batch.shape == (\n",
        "        10,), \"is_done batch should have shape (10,) but is instead %s\" % str(is_done_batch.shape)\n",
        "    assert [int(i) in (0, 1)\n",
        "            for i in is_dones], \"is_done should be strictly True or False\"\n",
        "    assert [\n",
        "        0 <= a < n_actions for a in act_batch], \"actions should be within [0, n_actions)\"\n",
        "\n",
        "print(\"Well done!\")"
      ],
      "execution_count": 44,
      "outputs": [
        {
          "output_type": "stream",
          "text": [
            "Well done!\n"
          ],
          "name": "stdout"
        }
      ]
    },
    {
      "cell_type": "markdown",
      "metadata": {
        "id": "Rj2vKzEYHQva"
      },
      "source": [
        "### Target networks\n",
        "\n",
        "We also employ the so called \"target network\" - a copy of neural network weights to be used for reference Q-values:\n",
        "\n",
        "The network itself is an exact copy of agent network, but it's parameters are not trained. Instead, they are moved here from agent's actual network every so often.\n",
        "\n",
        "$$ Q_{reference}(s,a) = r + \\gamma \\cdot \\max _{a'} Q_{target}(s',a') $$\n",
        "\n",
        "![img](https://github.com/yandexdataschool/Practical_RL/raw/master/yet_another_week/_resource/target_net.png)"
      ]
    },
    {
      "cell_type": "code",
      "metadata": {
        "colab": {
          "base_uri": "https://localhost:8080/"
        },
        "id": "W1sc50w1HQva",
        "outputId": "62da80cd-1881-4c84-be3c-d5c88b996965"
      },
      "source": [
        "target_network = DQNAgent(agent.state_shape, agent.n_actions, epsilon=0.5).to(device)\n",
        "# This is how you can load weights from agent into target network\n",
        "target_network.load_state_dict(agent.state_dict())"
      ],
      "execution_count": 45,
      "outputs": [
        {
          "output_type": "execute_result",
          "data": {
            "text/plain": [
              "<All keys matched successfully>"
            ]
          },
          "metadata": {
            "tags": []
          },
          "execution_count": 45
        }
      ]
    },
    {
      "cell_type": "markdown",
      "metadata": {
        "id": "PzCR5heiHQva"
      },
      "source": [
        "### Learning with... Q-learning\n",
        "Here we write a function similar to `agent.update` from tabular q-learning."
      ]
    },
    {
      "cell_type": "markdown",
      "metadata": {
        "id": "9fB7Af_uHQva"
      },
      "source": [
        "Compute Q-learning TD error:\n",
        "\n",
        "$$ L = { 1 \\over N} \\sum_i [ Q_{\\theta}(s,a) - Q_{reference}(s,a) ] ^2 $$\n",
        "\n",
        "With Q-reference defined as\n",
        "\n",
        "$$ Q_{reference}(s,a) = r(s,a) + \\gamma \\cdot max_{a'} Q_{target}(s', a') $$\n",
        "\n",
        "Where\n",
        "* $Q_{target}(s',a')$ denotes q-value of next state and next action predicted by __target_network__\n",
        "* $s, a, r, s'$ are current state, action, reward and next state respectively\n",
        "* $\\gamma$ is a discount factor defined two cells above.\n",
        "\n",
        "\n",
        "__Note 1:__ there's an example input below. Feel free to experiment with it before you write the function.\n",
        "\n",
        "__Note 2:__ compute_td_loss is a source of 99% of bugs in this homework. If reward doesn't improve, it often helps to go through it line by line [with a rubber duck](https://rubberduckdebugging.com/)."
      ]
    },
    {
      "cell_type": "code",
      "metadata": {
        "id": "qgf1n4H9HQvb"
      },
      "source": [
        "def compute_td_loss(states, actions, rewards, next_states, is_done,\n",
        "                    agent, target_network,\n",
        "                    gamma=0.99,\n",
        "                    check_shapes=False,\n",
        "                    device=device):\n",
        "    \"\"\" Compute td loss using torch operations only. Use the formulae above. \"\"\"\n",
        "    states = torch.tensor(states, device=device, dtype=torch.float)    # shape: [batch_size, *state_shape]\n",
        "\n",
        "    # for some torch reason should not make actions a tensor\n",
        "    actions = torch.tensor(actions, device=device, dtype=torch.long)    # shape: [batch_size]\n",
        "    rewards = torch.tensor(rewards, device=device, dtype=torch.float)  # shape: [batch_size]\n",
        "    # shape: [batch_size, *state_shape]\n",
        "    next_states = torch.tensor(next_states, device=device, dtype=torch.float)\n",
        "    is_done = torch.tensor(\n",
        "        is_done.astype('float32'),\n",
        "        device=device,\n",
        "        dtype=torch.float\n",
        "    )  # shape: [batch_size]\n",
        "    is_not_done = 1 - is_done\n",
        "\n",
        "    # get q-values for all actions in current states\n",
        "    predicted_qvalues = agent(states)\n",
        "\n",
        "    # compute q-values for all actions in next states\n",
        "    predicted_next_qvalues = target_network(next_states)\n",
        "    \n",
        "    # select q-values for chosen actions\n",
        "    predicted_qvalues_for_actions = predicted_qvalues[range(\n",
        "        len(actions)), actions]\n",
        "\n",
        "    # compute V*(next_states) using predicted next q-values\n",
        "    next_state_values = torch.tensor([torch.max(q).item() for q in predicted_next_qvalues])\n",
        "    \n",
        "    \n",
        "  \n",
        "\n",
        "    assert next_state_values.dim(\n",
        "    ) == 1 and next_state_values.shape[0] == states.shape[0], \"must predict one value per state\"\n",
        "\n",
        "    # compute \"target q-values\" for loss - it's what's inside square parentheses in the above formula.\n",
        "    # at the last state use the simplified formula: Q(s,a) = r(s,a) since s' doesn't exist\n",
        "    # you can multiply next state values by is_not_done to achieve this.\n",
        "    target_qvalues_for_actions = rewards+gamma*next_state_values.to(device)\n",
        "\n",
        "    \n",
        "\n",
        "    # mean squared error loss to minimize\n",
        "    loss = torch.mean((predicted_qvalues_for_actions -\n",
        "                       target_qvalues_for_actions.detach()) ** 2)\n",
        "\n",
        "    if check_shapes:\n",
        "        assert predicted_next_qvalues.data.dim(\n",
        "        ) == 2, \"make sure you predicted q-values for all actions in next state\"\n",
        "        assert next_state_values.data.dim(\n",
        "        ) == 1, \"make sure you computed V(s') as maximum over just the actions axis and not all axes\"\n",
        "        assert target_qvalues_for_actions.data.dim(\n",
        "        ) == 1, \"there's something wrong with target q-values, they must be a vector\"\n",
        "\n",
        "    return loss"
      ],
      "execution_count": 90,
      "outputs": []
    },
    {
      "cell_type": "markdown",
      "metadata": {
        "id": "g6a0qYTwHQvb"
      },
      "source": [
        "Sanity checks"
      ]
    },
    {
      "cell_type": "code",
      "metadata": {
        "id": "UFkDhDuzHQvb"
      },
      "source": [
        "obs_batch, act_batch, reward_batch, next_obs_batch, is_done_batch = exp_replay.sample(\n",
        "    10)\n",
        "\n",
        "loss = compute_td_loss(obs_batch, act_batch, reward_batch, next_obs_batch, is_done_batch,\n",
        "                       agent, target_network,\n",
        "                       gamma=0.99, check_shapes=True)\n",
        "loss.backward()\n",
        "\n",
        "assert loss.requires_grad and tuple(loss.data.size()) == (\n",
        "    ), \"you must return scalar loss - mean over batch\"\n",
        "assert np.any(next(agent.parameters()).grad.data.cpu().numpy() !=\n",
        "              0), \"loss must be differentiable w.r.t. network weights\"\n",
        "assert np.all(next(target_network.parameters()).grad is None), \"target network should not have grads\""
      ],
      "execution_count": 91,
      "outputs": []
    },
    {
      "cell_type": "markdown",
      "metadata": {
        "id": "3ksJVw06HQvc"
      },
      "source": [
        "## Main loop\n",
        "\n",
        "\n",
        "It's time to put everything together and see if it learns anything."
      ]
    },
    {
      "cell_type": "code",
      "metadata": {
        "id": "t2dJA523HQvc"
      },
      "source": [
        "from tqdm import trange\n",
        "from IPython.display import clear_output\n",
        "import matplotlib.pyplot as plt"
      ],
      "execution_count": 84,
      "outputs": []
    },
    {
      "cell_type": "code",
      "metadata": {
        "colab": {
          "base_uri": "https://localhost:8080/"
        },
        "id": "_EhvVS-0HQvc",
        "outputId": "f18aa89d-6c35-432f-9d6c-e4eb3553b1f4"
      },
      "source": [
        "seed = 33\n",
        "random.seed(seed)\n",
        "np.random.seed(seed)\n",
        "torch.manual_seed(seed)"
      ],
      "execution_count": 85,
      "outputs": [
        {
          "output_type": "execute_result",
          "data": {
            "text/plain": [
              "<torch._C.Generator at 0x7f581f845f90>"
            ]
          },
          "metadata": {
            "tags": []
          },
          "execution_count": 85
        }
      ]
    },
    {
      "cell_type": "code",
      "metadata": {
        "colab": {
          "base_uri": "https://localhost:8080/"
        },
        "id": "XTuFlU7iHQvc",
        "outputId": "db108519-e235-40cc-804d-a7ae441873b2"
      },
      "source": [
        "env = make_env(seed)\n",
        "state_shape = env.observation_space.shape\n",
        "n_actions = env.action_space.n\n",
        "state = env.reset()\n",
        "\n",
        "agent = DQNAgent(state_shape, n_actions, epsilon=1).to(device)\n",
        "target_network = DQNAgent(state_shape, n_actions).to(device)\n",
        "target_network.load_state_dict(agent.state_dict())"
      ],
      "execution_count": 86,
      "outputs": [
        {
          "output_type": "execute_result",
          "data": {
            "text/plain": [
              "<All keys matched successfully>"
            ]
          },
          "metadata": {
            "tags": []
          },
          "execution_count": 86
        }
      ]
    },
    {
      "cell_type": "markdown",
      "metadata": {
        "id": "5f1aiIFMHQvc"
      },
      "source": [
        "Buffer of size $10^4$ fits into 5 Gb RAM.\n",
        "\n",
        "Larger sizes ($10^5$ and $10^6$ are common) can be used. It can improve the learning, but $10^4$ is quiet enough. $10^2$ will probably fail learning."
      ]
    },
    {
      "cell_type": "code",
      "metadata": {
        "colab": {
          "base_uri": "https://localhost:8080/"
        },
        "id": "PK9VeRdkHQvd",
        "outputId": "4bb530d8-9b12-4ecd-c0f5-2fe415c34fdd"
      },
      "source": [
        "exp_replay = ReplayBuffer(10**4)\n",
        "for i in range(100):\n",
        "    if not utils.is_enough_ram(min_available_gb=0.1):\n",
        "        print(\"\"\"\n",
        "            Less than 100 Mb RAM available. \n",
        "            Make sure the buffer size in not too huge.\n",
        "            Also check, maybe other processes consume RAM heavily.\n",
        "            \"\"\"\n",
        "             )\n",
        "        break\n",
        "    play_and_record(state, agent, env, exp_replay, n_steps=10**2)\n",
        "    if len(exp_replay) == 10**4:\n",
        "        break\n",
        "print(len(exp_replay))"
      ],
      "execution_count": 87,
      "outputs": [
        {
          "output_type": "stream",
          "text": [
            "10000\n"
          ],
          "name": "stdout"
        }
      ]
    },
    {
      "cell_type": "code",
      "metadata": {
        "id": "YboUEQIMHQvd"
      },
      "source": [
        "timesteps_per_epoch = 1\n",
        "batch_size = 16\n",
        "total_steps = 3 * 10**6\n",
        "decay_steps = 10**6\n",
        "\n",
        "opt = torch.optim.Adam(agent.parameters(), lr=1e-4)\n",
        "\n",
        "init_epsilon = 1\n",
        "final_epsilon = 0.1\n",
        "\n",
        "loss_freq = 50\n",
        "refresh_target_network_freq = 5000\n",
        "eval_freq = 5000\n",
        "\n",
        "max_grad_norm = 50\n",
        "\n",
        "n_lives = 5"
      ],
      "execution_count": 88,
      "outputs": []
    },
    {
      "cell_type": "code",
      "metadata": {
        "id": "_LnqsBVZHQvd"
      },
      "source": [
        "mean_rw_history = []\n",
        "td_loss_history = []\n",
        "grad_norm_history = []\n",
        "initial_state_v_history = []\n",
        "step = 0"
      ],
      "execution_count": 89,
      "outputs": []
    },
    {
      "cell_type": "code",
      "metadata": {
        "colab": {
          "base_uri": "https://localhost:8080/",
          "height": 1000
        },
        "id": "sc3PODSOHQvd",
        "outputId": "7b6d6730-bc69-45ad-fb81-3fca5ca91c6b"
      },
      "source": [
        "state = env.reset()\n",
        "for step in trange(step, total_steps + 1):\n",
        "    if not utils.is_enough_ram():\n",
        "        print('less that 100 Mb RAM available, freezing')\n",
        "        print('make sure everythin is ok and make KeyboardInterrupt to continue')\n",
        "        try:\n",
        "            while True:\n",
        "                pass\n",
        "        except KeyboardInterrupt:\n",
        "            pass\n",
        "\n",
        "    agent.epsilon = utils.linear_decay(init_epsilon, final_epsilon, step, decay_steps)\n",
        "\n",
        "    # play\n",
        "    _, state = play_and_record(state, agent, env, exp_replay, timesteps_per_epoch)\n",
        "\n",
        "    # train\n",
        "    obs_batch, act_batch, reward_batch, next_obs_batch, is_done_batch = exp_replay.sample(batch_size)\n",
        "\n",
        "    loss = compute_td_loss(obs_batch,act_batch,reward_batch,next_obs_batch,is_done_batch,agent,target_network,gamma=0.99,check_shapes=True,device=device)\n",
        "\n",
        "    loss.backward()\n",
        "    grad_norm = nn.utils.clip_grad_norm_(agent.parameters(), max_grad_norm)\n",
        "    opt.step()\n",
        "    opt.zero_grad()\n",
        "\n",
        "    if step % loss_freq == 0:\n",
        "        td_loss_history.append(loss.data.cpu().item())\n",
        "        grad_norm_history.append(grad_norm)\n",
        "\n",
        "    if step % refresh_target_network_freq == 0:\n",
        "        # Load agent weights into target_network\n",
        "        target_network.load_state_dict(agent.state_dict())\n",
        "        \n",
        "    if step % eval_freq == 0:\n",
        "        mean_rw_history.append(evaluate(\n",
        "            make_env(clip_rewards=True, seed=step), agent, n_games=3 * n_lives, greedy=True)\n",
        "        )\n",
        "        initial_state_q_values = agent.get_qvalues(\n",
        "            [make_env(seed=step).reset()]\n",
        "        )\n",
        "        initial_state_v_history.append(np.max(initial_state_q_values))\n",
        "\n",
        "        clear_output(True)\n",
        "        print(\"buffer size = %i, epsilon = %.5f\" %\n",
        "              (len(exp_replay), agent.epsilon))\n",
        "\n",
        "        plt.figure(figsize=[16, 9])\n",
        "\n",
        "        plt.subplot(2, 2, 1)\n",
        "        plt.title(\"Mean reward per life\")\n",
        "        plt.plot(mean_rw_history)\n",
        "        plt.grid()\n",
        "\n",
        "        assert not np.isnan(td_loss_history[-1])\n",
        "        plt.subplot(2, 2, 2)\n",
        "        plt.title(\"TD loss history (smoothened)\")\n",
        "        plt.plot(utils.smoothen(td_loss_history))\n",
        "        plt.grid()\n",
        "\n",
        "        plt.subplot(2, 2, 3)\n",
        "        plt.title(\"Initial state V\")\n",
        "        plt.plot(initial_state_v_history)\n",
        "        plt.grid()\n",
        "\n",
        "        plt.subplot(2, 2, 4)\n",
        "        plt.title(\"Grad norm history (smoothened)\")\n",
        "        plt.plot(utils.smoothen(grad_norm_history))\n",
        "        plt.grid()\n",
        "\n",
        "        plt.show()"
      ],
      "execution_count": null,
      "outputs": [
        {
          "output_type": "stream",
          "text": [
            "buffer size = 10000, epsilon = 0.49150\n"
          ],
          "name": "stdout"
        },
        {
          "output_type": "stream",
          "text": [
            "\n",
            "  3%|▎         | 69995/2505001 [21:38<8:39:38, 78.10it/s]\u001b[A"
          ],
          "name": "stderr"
        },
        {
          "output_type": "display_data",
          "data": {
            "image/png": "[encoded data removed]",
            "text/plain": [
              "<Figure size 1152x648 with 4 Axes>"
            ]
          },
          "metadata": {
            "tags": [],
            "needs_background": "light"
          }
        },
        {
          "output_type": "stream",
          "text": [
            "\n",
            "  3%|▎         | 70001/2505001 [21:55<986:47:14,  1.46s/it]\u001b[A\n",
            "  3%|▎         | 70008/2505001 [21:55<693:41:45,  1.03s/it]\u001b[A\n",
            "  3%|▎         | 70017/2505001 [21:55<488:04:29,  1.39it/s]\u001b[A\n",
            "  3%|▎         | 70026/2505001 [21:55<344:07:24,  1.97it/s]\u001b[A\n",
            "  3%|▎         | 70034/2505001 [21:56<243:25:52,  2.78it/s]\u001b[A\n",
            "  3%|▎         | 70043/2505001 [21:56<172:48:15,  3.91it/s]\u001b[A\n",
            "  3%|▎         | 70052/2505001 [21:56<123:22:28,  5.48it/s]\u001b[A\n",
            "  3%|▎         | 70061/2505001 [21:56<88:45:47,  7.62it/s] \u001b[A\n",
            "  3%|▎         | 70070/2505001 [21:56<64:31:27, 10.48it/s]\u001b[A\n",
            "  3%|▎         | 70079/2505001 [21:56<47:36:54, 14.20it/s]\u001b[A\n",
            "  3%|▎         | 70087/2505001 [21:56<35:56:46, 18.82it/s]\u001b[A\n",
            "  3%|▎         | 70095/2505001 [21:56<27:43:00, 24.40it/s]\u001b[A\n",
            "  3%|▎         | 70103/2505001 [21:56<22:06:47, 30.59it/s]\u001b[A\n",
            "  3%|▎         | 70112/2505001 [21:57<17:53:13, 37.81it/s]\u001b[A\n",
            "  3%|▎         | 70121/2505001 [21:57<14:55:24, 45.32it/s]\u001b[A\n",
            "  3%|▎         | 70130/2505001 [21:57<13:02:05, 51.89it/s]\u001b[A\n",
            "  3%|▎         | 70139/2505001 [21:57<11:29:13, 58.88it/s]\u001b[A\n",
            "  3%|▎         | 70148/2505001 [21:57<10:55:34, 61.90it/s]\u001b[A\n",
            "  3%|▎         | 70157/2505001 [21:57<10:00:45, 67.55it/s]\u001b[A\n",
            "  3%|▎         | 70166/2505001 [21:57<9:33:52, 70.71it/s] \u001b[A\n",
            "  3%|▎         | 70175/2505001 [21:57<9:19:39, 72.51it/s]\u001b[A\n",
            "  3%|▎         | 70184/2505001 [21:57<8:56:16, 75.67it/s]\u001b[A\n",
            "  3%|▎         | 70193/2505001 [21:58<8:42:02, 77.73it/s]\u001b[A\n",
            "  3%|▎         | 70202/2505001 [21:58<8:48:38, 76.76it/s]\u001b[A\n",
            "  3%|▎         | 70210/2505001 [21:58<8:43:07, 77.57it/s]\u001b[A\n",
            "  3%|▎         | 70219/2505001 [21:58<8:31:30, 79.33it/s]\u001b[A\n",
            "  3%|▎         | 70228/2505001 [21:58<8:21:46, 80.87it/s]\u001b[A\n",
            "  3%|▎         | 70237/2505001 [21:58<8:15:11, 81.95it/s]\u001b[A\n",
            "  3%|▎         | 70246/2505001 [21:58<8:23:03, 80.67it/s]\u001b[A\n",
            "  3%|▎         | 70255/2505001 [21:58<8:34:37, 78.85it/s]\u001b[A\n",
            "  3%|▎         | 70264/2505001 [21:58<8:24:50, 80.38it/s]\u001b[A\n",
            "  3%|▎         | 70273/2505001 [21:59<8:35:19, 78.74it/s]\u001b[A\n",
            "  3%|▎         | 70282/2505001 [21:59<8:23:32, 80.59it/s]\u001b[A\n",
            "  3%|▎         | 70291/2505001 [21:59<8:19:07, 81.30it/s]\u001b[A\n",
            "  3%|▎         | 70300/2505001 [21:59<8:16:30, 81.73it/s]\u001b[A\n",
            "  3%|▎         | 70309/2505001 [21:59<8:18:20, 81.43it/s]\u001b[A\n",
            "  3%|▎         | 70318/2505001 [21:59<8:25:32, 80.27it/s]\u001b[A\n",
            "  3%|▎         | 70327/2505001 [21:59<8:23:47, 80.55it/s]\u001b[A\n",
            "  3%|▎         | 70336/2505001 [21:59<8:30:42, 79.45it/s]\u001b[A\n",
            "  3%|▎         | 70345/2505001 [21:59<8:26:05, 80.18it/s]\u001b[A\n",
            "  3%|▎         | 70354/2505001 [22:00<8:22:44, 80.71it/s]\u001b[A\n",
            "  3%|▎         | 70363/2505001 [22:00<8:15:23, 81.91it/s]\u001b[A\n",
            "  3%|▎         | 70372/2505001 [22:00<8:39:48, 78.06it/s]\u001b[A\n",
            "  3%|▎         | 70381/2505001 [22:00<8:27:11, 80.00it/s]\u001b[A\n",
            "  3%|▎         | 70390/2505001 [22:00<8:19:05, 81.30it/s]\u001b[A\n",
            "  3%|▎         | 70399/2505001 [22:00<8:18:50, 81.34it/s]\u001b[A\n",
            "  3%|▎         | 70408/2505001 [22:00<8:16:38, 81.70it/s]\u001b[A\n",
            "  3%|▎         | 70417/2505001 [22:00<8:32:21, 79.19it/s]\u001b[A\n",
            "  3%|▎         | 70425/2505001 [22:00<8:34:53, 78.81it/s]\u001b[A\n",
            "  3%|▎         | 70434/2505001 [22:01<8:27:35, 79.94it/s]\u001b[A\n",
            "  3%|▎         | 70443/2505001 [22:01<8:21:57, 80.84it/s]\u001b[A\n",
            "  3%|▎         | 70452/2505001 [22:01<8:24:10, 80.48it/s]\u001b[A\n",
            "  3%|▎         | 70461/2505001 [22:01<8:26:19, 80.14it/s]\u001b[A\n",
            "  3%|▎         | 70470/2505001 [22:01<8:20:22, 81.09it/s]\u001b[A\n",
            "  3%|▎         | 70479/2505001 [22:01<8:30:43, 79.45it/s]\u001b[A\n",
            "  3%|▎         | 70487/2505001 [22:01<8:30:16, 79.52it/s]\u001b[A\n",
            "  3%|▎         | 70495/2505001 [22:01<8:31:21, 79.35it/s]\u001b[A\n",
            "  3%|▎         | 70503/2505001 [22:01<8:36:14, 78.60it/s]\u001b[A\n",
            "  3%|▎         | 70512/2505001 [22:02<8:30:38, 79.46it/s]\u001b[A\n",
            "  3%|▎         | 70521/2505001 [22:02<8:24:08, 80.48it/s]\u001b[A\n",
            "  3%|▎         | 70530/2505001 [22:02<8:20:34, 81.05it/s]\u001b[A\n",
            "  3%|▎         | 70539/2505001 [22:02<8:12:45, 82.34it/s]\u001b[A\n",
            "  3%|▎         | 70548/2505001 [22:02<8:14:09, 82.11it/s]\u001b[A\n",
            "  3%|▎         | 70557/2505001 [22:02<8:15:12, 81.93it/s]\u001b[A\n",
            "  3%|▎         | 70566/2505001 [22:02<8:13:48, 82.17it/s]\u001b[A\n",
            "  3%|▎         | 70575/2505001 [22:02<8:13:38, 82.19it/s]\u001b[A\n",
            "  3%|▎         | 70584/2505001 [22:02<8:14:21, 82.07it/s]\u001b[A\n",
            "  3%|▎         | 70593/2505001 [22:02<8:08:50, 83.00it/s]\u001b[A\n",
            "  3%|▎         | 70602/2505001 [22:03<8:13:16, 82.25it/s]\u001b[A\n",
            "  3%|▎         | 70611/2505001 [22:03<8:06:42, 83.36it/s]\u001b[A\n",
            "  3%|▎         | 70620/2505001 [22:03<8:01:59, 84.18it/s]\u001b[A\n",
            "  3%|▎         | 70629/2505001 [22:03<8:02:03, 84.17it/s]\u001b[A\n",
            "  3%|▎         | 70638/2505001 [22:03<8:21:00, 80.98it/s]\u001b[A\n",
            "  3%|▎         | 70647/2505001 [22:03<8:33:22, 79.03it/s]\u001b[A\n",
            "  3%|▎         | 70655/2505001 [22:03<8:33:16, 79.05it/s]\u001b[A\n",
            "  3%|▎         | 70663/2505001 [22:03<8:40:19, 77.97it/s]\u001b[A\n",
            "  3%|▎         | 70672/2505001 [22:03<8:30:59, 79.40it/s]\u001b[A\n",
            "  3%|▎         | 70681/2505001 [22:04<8:16:57, 81.64it/s]\u001b[A\n",
            "  3%|▎         | 70690/2505001 [22:04<8:19:37, 81.21it/s]\u001b[A\n",
            "  3%|▎         | 70699/2505001 [22:04<8:15:32, 81.87it/s]\u001b[A\n",
            "  3%|▎         | 70708/2505001 [22:04<8:06:33, 83.39it/s]\u001b[A\n",
            "  3%|▎         | 70717/2505001 [22:04<8:02:06, 84.15it/s]\u001b[A\n",
            "  3%|▎         | 70726/2505001 [22:04<8:07:16, 83.26it/s]\u001b[A\n",
            "  3%|▎         | 70735/2505001 [22:04<8:14:52, 81.98it/s]\u001b[A\n",
            "  3%|▎         | 70744/2505001 [22:04<8:29:16, 79.66it/s]\u001b[A\n",
            "  3%|▎         | 70753/2505001 [22:04<8:20:04, 81.13it/s]\u001b[A\n",
            "  3%|▎         | 70762/2505001 [22:05<8:19:52, 81.16it/s]\u001b[A\n",
            "  3%|▎         | 70771/2505001 [22:05<8:19:24, 81.24it/s]\u001b[A\n",
            "  3%|▎         | 70780/2505001 [22:05<8:19:38, 81.20it/s]\u001b[A\n",
            "  3%|▎         | 70789/2505001 [22:05<8:14:11, 82.10it/s]\u001b[A\n",
            "  3%|▎         | 70798/2505001 [22:05<8:11:31, 82.54it/s]\u001b[A\n",
            "  3%|▎         | 70807/2505001 [22:05<8:06:33, 83.38it/s]\u001b[A\n",
            "  3%|▎         | 70816/2505001 [22:05<8:11:08, 82.60it/s]\u001b[A\n",
            "  3%|▎         | 70825/2505001 [22:05<8:28:34, 79.77it/s]\u001b[A\n",
            "  3%|▎         | 70834/2505001 [22:05<8:33:33, 79.00it/s]\u001b[A\n",
            "  3%|▎         | 70843/2505001 [22:06<8:27:32, 79.93it/s]\u001b[A\n",
            "  3%|▎         | 70852/2505001 [22:06<8:17:59, 81.46it/s]\u001b[A\n",
            "  3%|▎         | 70861/2505001 [22:06<8:19:52, 81.16it/s]\u001b[A\n",
            "  3%|▎         | 70870/2505001 [22:06<8:23:22, 80.59it/s]\u001b[A\n",
            "  3%|▎         | 70879/2505001 [22:06<8:18:39, 81.35it/s]\u001b[A\n",
            "  3%|▎         | 70888/2505001 [22:06<8:15:49, 81.82it/s]\u001b[A\n",
            "  3%|▎         | 70897/2505001 [22:06<8:21:09, 80.95it/s]\u001b[A\n",
            "  3%|▎         | 70906/2505001 [22:06<8:24:12, 80.46it/s]\u001b[A\n",
            "  3%|▎         | 70915/2505001 [22:06<8:29:22, 79.64it/s]\u001b[A\n",
            "  3%|▎         | 70924/2505001 [22:07<8:21:43, 80.86it/s]\u001b[A\n",
            "  3%|▎         | 70933/2505001 [22:07<8:19:47, 81.17it/s]\u001b[A\n",
            "  3%|▎         | 70942/2505001 [22:07<8:16:56, 81.63it/s]\u001b[A\n",
            "  3%|▎         | 70951/2505001 [22:07<8:18:02, 81.45it/s]\u001b[A\n",
            "  3%|▎         | 70960/2505001 [22:07<8:11:29, 82.54it/s]\u001b[A\n",
            "  3%|▎         | 70969/2505001 [22:07<8:06:43, 83.35it/s]\u001b[A\n",
            "  3%|▎         | 70978/2505001 [22:07<8:25:41, 80.22it/s]\u001b[A\n",
            "  3%|▎         | 70987/2505001 [22:07<8:27:25, 79.95it/s]\u001b[A\n",
            "  3%|▎         | 70996/2505001 [22:07<8:34:24, 78.86it/s]\u001b[A\n",
            "  3%|▎         | 71005/2505001 [22:08<8:24:59, 80.33it/s]\u001b[A\n",
            "  3%|▎         | 71014/2505001 [22:08<8:15:57, 81.79it/s]\u001b[A\n",
            "  3%|▎         | 71023/2505001 [22:08<8:22:48, 80.68it/s]\u001b[A\n",
            "  3%|▎         | 71032/2505001 [22:08<8:28:42, 79.74it/s]\u001b[A\n",
            "  3%|▎         | 71040/2505001 [22:08<8:29:30, 79.62it/s]\u001b[A\n",
            "  3%|▎         | 71049/2505001 [22:08<8:24:13, 80.45it/s]\u001b[A\n",
            "  3%|▎         | 71058/2505001 [22:08<8:20:57, 80.97it/s]\u001b[A\n",
            "  3%|▎         | 71067/2505001 [22:08<8:18:51, 81.32it/s]\u001b[A\n",
            "  3%|▎         | 71076/2505001 [22:08<8:29:13, 79.66it/s]\u001b[A\n",
            "  3%|▎         | 71085/2505001 [22:09<8:20:02, 81.12it/s]\u001b[A\n",
            "  3%|▎         | 71094/2505001 [22:09<8:12:55, 82.29it/s]\u001b[A\n",
            "  3%|▎         | 71103/2505001 [22:09<8:24:33, 80.40it/s]\u001b[A\n",
            "  3%|▎         | 71112/2505001 [22:09<8:22:38, 80.70it/s]\u001b[A\n",
            "  3%|▎         | 71121/2505001 [22:09<8:20:59, 80.97it/s]\u001b[A\n",
            "  3%|▎         | 71130/2505001 [22:09<8:27:42, 79.90it/s]\u001b[A\n",
            "  3%|▎         | 71139/2505001 [22:09<8:22:15, 80.76it/s]\u001b[A\n",
            "  3%|▎         | 71148/2505001 [22:09<8:30:48, 79.41it/s]\u001b[A\n",
            "  3%|▎         | 71156/2505001 [22:09<8:34:23, 78.86it/s]\u001b[A\n",
            "  3%|▎         | 71165/2505001 [22:10<8:27:07, 79.99it/s]\u001b[A\n",
            "  3%|▎         | 71174/2505001 [22:10<8:26:01, 80.16it/s]\u001b[A\n",
            "  3%|▎         | 71183/2505001 [22:10<8:28:41, 79.74it/s]\u001b[A\n",
            "  3%|▎         | 71192/2505001 [22:10<8:23:29, 80.57it/s]\u001b[A\n",
            "  3%|▎         | 71201/2505001 [22:10<8:29:22, 79.63it/s]\u001b[A\n",
            "  3%|▎         | 71210/2505001 [22:10<8:17:53, 81.47it/s]\u001b[A\n",
            "  3%|▎         | 71219/2505001 [22:10<8:24:08, 80.46it/s]\u001b[A\n",
            "  3%|▎         | 71228/2505001 [22:10<8:15:42, 81.83it/s]\u001b[A\n",
            "  3%|▎         | 71237/2505001 [22:10<8:21:35, 80.87it/s]\u001b[A\n",
            "  3%|▎         | 71246/2505001 [22:11<8:17:34, 81.52it/s]\u001b[A\n",
            "  3%|▎         | 71255/2505001 [22:11<8:16:29, 81.70it/s]\u001b[A\n",
            "  3%|▎         | 71264/2505001 [22:11<8:25:40, 80.21it/s]\u001b[A\n",
            "  3%|▎         | 71273/2505001 [22:11<8:15:56, 81.79it/s]\u001b[A\n",
            "  3%|▎         | 71282/2505001 [22:11<8:12:28, 82.36it/s]\u001b[A\n",
            "  3%|▎         | 71291/2505001 [22:11<8:27:42, 79.89it/s]\u001b[A\n",
            "  3%|▎         | 71300/2505001 [22:11<8:19:37, 81.18it/s]\u001b[A\n",
            "  3%|▎         | 71309/2505001 [22:11<8:14:06, 82.09it/s]\u001b[A\n",
            "  3%|▎         | 71318/2505001 [22:11<8:36:17, 78.56it/s]\u001b[A\n",
            "  3%|▎         | 71327/2505001 [22:12<8:25:37, 80.22it/s]\u001b[A\n",
            "  3%|▎         | 71336/2505001 [22:12<8:22:31, 80.72it/s]\u001b[A\n",
            "  3%|▎         | 71345/2505001 [22:12<8:23:48, 80.51it/s]\u001b[A\n",
            "  3%|▎         | 71354/2505001 [22:12<8:28:00, 79.84it/s]\u001b[A\n",
            "  3%|▎         | 71362/2505001 [22:12<8:31:30, 79.30it/s]\u001b[A\n",
            "  3%|▎         | 71370/2505001 [22:12<8:33:10, 79.04it/s]\u001b[A\n",
            "  3%|▎         | 71378/2505001 [22:12<8:35:32, 78.67it/s]\u001b[A\n",
            "  3%|▎         | 71386/2505001 [22:12<8:41:12, 77.82it/s]\u001b[A\n",
            "  3%|▎         | 71394/2505001 [22:12<8:51:11, 76.36it/s]\u001b[A\n",
            "  3%|▎         | 71402/2505001 [22:13<8:55:54, 75.68it/s]\u001b[A\n",
            "  3%|▎         | 71411/2505001 [22:13<8:40:01, 78.00it/s]\u001b[A\n",
            "  3%|▎         | 71419/2505001 [22:13<8:50:07, 76.51it/s]\u001b[A\n",
            "  3%|▎         | 71427/2505001 [22:13<8:49:58, 76.53it/s]\u001b[A\n",
            "  3%|▎         | 71436/2505001 [22:13<8:39:39, 78.05it/s]\u001b[A\n",
            "  3%|▎         | 71444/2505001 [22:13<8:48:18, 76.77it/s]\u001b[A\n",
            "  3%|▎         | 71452/2505001 [22:13<8:48:44, 76.71it/s]\u001b[A\n",
            "  3%|▎         | 71460/2505001 [22:13<9:08:20, 73.97it/s]\u001b[A\n",
            "  3%|▎         | 71469/2505001 [22:13<8:50:54, 76.39it/s]\u001b[A\n",
            "  3%|▎         | 71477/2505001 [22:13<8:45:56, 77.12it/s]\u001b[A\n",
            "  3%|▎         | 71485/2505001 [22:14<8:45:20, 77.20it/s]\u001b[A\n",
            "  3%|▎         | 71493/2505001 [22:14<8:43:15, 77.51it/s]\u001b[A\n",
            "  3%|▎         | 71502/2505001 [22:14<8:35:32, 78.67it/s]\u001b[A\n",
            "  3%|▎         | 71510/2505001 [22:14<8:34:45, 78.79it/s]\u001b[A\n",
            "  3%|▎         | 71518/2505001 [22:14<8:47:07, 76.94it/s]\u001b[A\n",
            "  3%|▎         | 71527/2505001 [22:14<8:33:58, 78.91it/s]\u001b[A\n",
            "  3%|▎         | 71536/2505001 [22:14<8:24:15, 80.43it/s]\u001b[A\n",
            "  3%|▎         | 71545/2505001 [22:14<8:23:58, 80.47it/s]\u001b[A\n",
            "  3%|▎         | 71554/2505001 [22:14<8:26:21, 80.10it/s]\u001b[A\n",
            "  3%|▎         | 71563/2505001 [22:15<8:30:16, 79.48it/s]\u001b[A\n",
            "  3%|▎         | 71572/2505001 [22:15<8:19:07, 81.26it/s]\u001b[A\n",
            "  3%|▎         | 71581/2505001 [22:15<8:11:41, 82.48it/s]\u001b[A\n",
            "  3%|▎         | 71590/2505001 [22:15<8:19:28, 81.20it/s]\u001b[A\n",
            "  3%|▎         | 71599/2505001 [22:15<8:15:55, 81.78it/s]\u001b[A\n",
            "  3%|▎         | 71608/2505001 [22:15<8:09:20, 82.88it/s]\u001b[A\n",
            "  3%|▎         | 71617/2505001 [22:15<8:18:35, 81.34it/s]\u001b[A\n",
            "  3%|▎         | 71626/2505001 [22:15<8:20:39, 81.00it/s]\u001b[A\n",
            "  3%|▎         | 71635/2505001 [22:15<8:13:43, 82.14it/s]\u001b[A\n",
            "  3%|▎         | 71644/2505001 [22:16<8:15:23, 81.87it/s]\u001b[A\n",
            "  3%|▎         | 71653/2505001 [22:16<8:22:39, 80.68it/s]\u001b[A\n",
            "  3%|▎         | 71662/2505001 [22:16<8:21:05, 80.94it/s]\u001b[A\n",
            "  3%|▎         | 71671/2505001 [22:16<8:13:29, 82.18it/s]\u001b[A\n",
            "  3%|▎         | 71680/2505001 [22:16<8:22:09, 80.76it/s]\u001b[A\n",
            "  3%|▎         | 71689/2505001 [22:16<8:14:54, 81.94it/s]\u001b[A\n",
            "  3%|▎         | 71698/2505001 [22:16<8:10:06, 82.75it/s]\u001b[A\n",
            "  3%|▎         | 71707/2505001 [22:16<8:15:20, 81.87it/s]\u001b[A\n",
            "  3%|▎         | 71716/2505001 [22:16<8:18:48, 81.30it/s]\u001b[A\n",
            "  3%|▎         | 71725/2505001 [22:17<8:38:18, 78.24it/s]\u001b[A\n",
            "  3%|▎         | 71733/2505001 [22:17<8:39:11, 78.11it/s]\u001b[A\n",
            "  3%|▎         | 71741/2505001 [22:17<8:45:56, 77.11it/s]\u001b[A\n",
            "  3%|▎         | 71749/2505001 [22:17<8:49:28, 76.59it/s]\u001b[A\n",
            "  3%|▎         | 71757/2505001 [22:17<8:54:40, 75.85it/s]\u001b[A\n",
            "  3%|▎         | 71765/2505001 [22:17<8:46:26, 77.04it/s]\u001b[A\n",
            "  3%|▎         | 71773/2505001 [22:17<8:45:12, 77.22it/s]\u001b[A\n",
            "  3%|▎         | 71782/2505001 [22:17<8:29:27, 79.60it/s]\u001b[A\n",
            "  3%|▎         | 71790/2505001 [22:17<8:49:09, 76.64it/s]\u001b[A\n",
            "  3%|▎         | 71798/2505001 [22:18<8:51:57, 76.24it/s]\u001b[A\n",
            "  3%|▎         | 71806/2505001 [22:18<8:46:27, 77.03it/s]\u001b[A\n",
            "  3%|▎         | 71814/2505001 [22:18<9:02:41, 74.73it/s]\u001b[A\n",
            "  3%|▎         | 71822/2505001 [22:18<8:57:47, 75.41it/s]\u001b[A\n",
            "  3%|▎         | 71831/2505001 [22:18<8:44:21, 77.34it/s]\u001b[A\n",
            "  3%|▎         | 71840/2505001 [22:18<8:29:36, 79.58it/s]\u001b[A\n",
            "  3%|▎         | 71848/2505001 [22:18<8:35:13, 78.71it/s]\u001b[A\n",
            "  3%|▎         | 71856/2505001 [22:18<8:32:47, 79.08it/s]\u001b[A\n",
            "  3%|▎         | 71864/2505001 [22:18<8:33:38, 78.95it/s]\u001b[A\n",
            "  3%|▎         | 71872/2505001 [22:18<8:34:47, 78.77it/s]\u001b[A\n",
            "  3%|▎         | 71880/2505001 [22:19<8:48:44, 76.69it/s]\u001b[A\n",
            "  3%|▎         | 71888/2505001 [22:19<8:43:17, 77.49it/s]\u001b[A\n",
            "  3%|▎         | 71897/2505001 [22:19<8:31:25, 79.29it/s]\u001b[A\n",
            "  3%|▎         | 71905/2505001 [22:19<8:30:13, 79.48it/s]\u001b[A\n",
            "  3%|▎         | 71914/2505001 [22:19<8:29:56, 79.52it/s]\u001b[A\n",
            "  3%|▎         | 71922/2505001 [22:19<8:30:23, 79.45it/s]\u001b[A\n",
            "  3%|▎         | 71931/2505001 [22:19<8:21:33, 80.85it/s]\u001b[A\n",
            "  3%|▎         | 71940/2505001 [22:19<8:36:19, 78.54it/s]\u001b[A\n",
            "  3%|▎         | 71948/2505001 [22:19<8:36:19, 78.54it/s]\u001b[A\n",
            "  3%|▎         | 71957/2505001 [22:20<8:28:02, 79.82it/s]\u001b[A\n",
            "  3%|▎         | 71965/2505001 [22:20<8:48:13, 76.77it/s]\u001b[A\n",
            "  3%|▎         | 71973/2505001 [22:20<8:45:22, 77.18it/s]\u001b[A\n",
            "  3%|▎         | 71982/2505001 [22:20<8:35:42, 78.63it/s]\u001b[A\n",
            "  3%|▎         | 71990/2505001 [22:20<8:36:02, 78.58it/s]\u001b[A\n",
            "  3%|▎         | 71998/2505001 [22:20<8:46:31, 77.01it/s]\u001b[A\n",
            "  3%|▎         | 72006/2505001 [22:20<8:42:03, 77.67it/s]\u001b[A\n",
            "  3%|▎         | 72014/2505001 [22:20<8:37:45, 78.32it/s]\u001b[A\n",
            "  3%|▎         | 72023/2505001 [22:20<8:31:32, 79.27it/s]\u001b[A\n",
            "  3%|▎         | 72032/2505001 [22:20<8:25:45, 80.18it/s]\u001b[A\n",
            "  3%|▎         | 72041/2505001 [22:21<8:34:59, 78.74it/s]\u001b[A\n",
            "  3%|▎         | 72049/2505001 [22:21<8:39:07, 78.11it/s]\u001b[A\n",
            "  3%|▎         | 72058/2505001 [22:21<8:32:07, 79.18it/s]\u001b[A\n",
            "  3%|▎         | 72067/2505001 [22:21<8:23:25, 80.54it/s]\u001b[A\n",
            "  3%|▎         | 72076/2505001 [22:21<8:18:44, 81.30it/s]\u001b[A\n",
            "  3%|▎         | 72085/2505001 [22:21<8:32:17, 79.15it/s]\u001b[A\n",
            "  3%|▎         | 72094/2505001 [22:21<8:25:36, 80.20it/s]\u001b[A\n",
            "  3%|▎         | 72103/2505001 [22:21<8:34:10, 78.86it/s]\u001b[A\n",
            "  3%|▎         | 72112/2505001 [22:21<8:28:02, 79.81it/s]\u001b[A\n",
            "  3%|▎         | 72121/2505001 [22:22<8:23:24, 80.55it/s]\u001b[A\n",
            "  3%|▎         | 72130/2505001 [22:22<8:22:03, 80.76it/s]\u001b[A\n",
            "  3%|▎         | 72139/2505001 [22:22<8:19:52, 81.12it/s]\u001b[A\n",
            "  3%|▎         | 72148/2505001 [22:22<8:17:21, 81.53it/s]\u001b[A\n",
            "  3%|▎         | 72157/2505001 [22:22<8:37:28, 78.36it/s]\u001b[A\n",
            "  3%|▎         | 72165/2505001 [22:22<8:41:24, 77.77it/s]\u001b[A\n",
            "  3%|▎         | 72173/2505001 [22:22<8:41:26, 77.76it/s]\u001b[A\n",
            "  3%|▎         | 72182/2505001 [22:22<8:30:51, 79.37it/s]\u001b[A\n",
            "  3%|▎         | 72190/2505001 [22:22<8:31:38, 79.25it/s]\u001b[A\n",
            "  3%|▎         | 72198/2505001 [22:23<8:32:42, 79.08it/s]\u001b[A\n",
            "  3%|▎         | 72206/2505001 [22:23<8:39:30, 78.05it/s]\u001b[A\n",
            "  3%|▎         | 72215/2505001 [22:23<8:28:20, 79.76it/s]\u001b[A\n",
            "  3%|▎         | 72223/2505001 [22:23<8:30:03, 79.49it/s]\u001b[A\n",
            "  3%|▎         | 72232/2505001 [22:23<8:24:13, 80.41it/s]\u001b[A\n",
            "  3%|▎         | 72241/2505001 [22:23<8:18:09, 81.39it/s]\u001b[A\n",
            "  3%|▎         | 72250/2505001 [22:23<8:14:37, 81.97it/s]\u001b[A\n",
            "  3%|▎         | 72259/2505001 [22:23<8:24:05, 80.43it/s]\u001b[A\n",
            "  3%|▎         | 72268/2505001 [22:23<8:20:23, 81.03it/s]\u001b[A\n",
            "  3%|▎         | 72277/2505001 [22:24<8:17:19, 81.53it/s]\u001b[A\n",
            "  3%|▎         | 72286/2505001 [22:24<8:40:08, 77.95it/s]\u001b[A\n",
            "  3%|▎         | 72295/2505001 [22:24<8:29:41, 79.55it/s]\u001b[A\n",
            "  3%|▎         | 72304/2505001 [22:24<8:21:40, 80.82it/s]\u001b[A\n",
            "  3%|▎         | 72313/2505001 [22:24<8:28:54, 79.67it/s]\u001b[A\n",
            "  3%|▎         | 72321/2505001 [22:24<8:28:47, 79.69it/s]\u001b[A\n",
            "  3%|▎         | 72330/2505001 [22:24<8:19:58, 81.09it/s]\u001b[A\n",
            "  3%|▎         | 72339/2505001 [22:24<8:30:41, 79.39it/s]\u001b[A\n",
            "  3%|▎         | 72347/2505001 [22:24<8:34:35, 78.79it/s]\u001b[A\n",
            "  3%|▎         | 72356/2505001 [22:25<8:28:16, 79.77it/s]\u001b[A\n",
            "  3%|▎         | 72364/2505001 [22:25<9:02:59, 74.67it/s]\u001b[A\n",
            "  3%|▎         | 72372/2505001 [22:25<8:53:42, 75.97it/s]\u001b[A\n",
            "  3%|▎         | 72380/2505001 [22:25<8:48:54, 76.65it/s]\u001b[A\n",
            "  3%|▎         | 72388/2505001 [22:25<8:53:43, 75.96it/s]\u001b[A\n",
            "  3%|▎         | 72396/2505001 [22:25<8:47:45, 76.82it/s]\u001b[A\n",
            "  3%|▎         | 72404/2505001 [22:25<8:44:24, 77.31it/s]\u001b[A\n",
            "  3%|▎         | 72412/2505001 [22:25<8:55:11, 75.75it/s]\u001b[A\n",
            "  3%|▎         | 72420/2505001 [22:25<8:47:02, 76.93it/s]\u001b[A\n",
            "  3%|▎         | 72428/2505001 [22:26<9:00:05, 75.07it/s]\u001b[A\n",
            "  3%|▎         | 72436/2505001 [22:26<9:04:35, 74.45it/s]\u001b[A\n",
            "  3%|▎         | 72444/2505001 [22:26<9:02:19, 74.76it/s]\u001b[A\n",
            "  3%|▎         | 72453/2505001 [22:26<8:45:15, 77.19it/s]\u001b[A\n",
            "  3%|▎         | 72461/2505001 [22:26<8:43:19, 77.47it/s]\u001b[A\n",
            "  3%|▎         | 72470/2505001 [22:26<8:33:44, 78.91it/s]\u001b[A\n",
            "  3%|▎         | 72479/2505001 [22:26<8:36:24, 78.51it/s]\u001b[A\n",
            "  3%|▎         | 72487/2505001 [22:26<9:07:23, 74.06it/s]\u001b[A\n",
            "  3%|▎         | 72495/2505001 [22:26<8:58:34, 75.28it/s]\u001b[A\n",
            "  3%|▎         | 72503/2505001 [22:26<8:53:00, 76.06it/s]\u001b[A\n",
            "  3%|▎         | 72511/2505001 [22:27<8:45:42, 77.12it/s]\u001b[A\n",
            "  3%|▎         | 72519/2505001 [22:27<8:42:29, 77.59it/s]\u001b[A\n",
            "  3%|▎         | 72527/2505001 [22:27<8:41:17, 77.77it/s]\u001b[A\n",
            "  3%|▎         | 72535/2505001 [22:27<8:41:25, 77.75it/s]\u001b[A\n",
            "  3%|▎         | 72544/2505001 [22:27<8:32:22, 79.12it/s]\u001b[A\n",
            "  3%|▎         | 72552/2505001 [22:27<8:31:47, 79.21it/s]\u001b[A\n",
            "  3%|▎         | 72561/2505001 [22:27<8:26:08, 80.10it/s]\u001b[A\n",
            "  3%|▎         | 72570/2505001 [22:27<8:22:36, 80.66it/s]\u001b[A\n",
            "  3%|▎         | 72579/2505001 [22:27<8:27:51, 79.82it/s]\u001b[A\n",
            "  3%|▎         | 72588/2505001 [22:28<8:21:09, 80.89it/s]\u001b[A\n",
            "  3%|▎         | 72597/2505001 [22:28<8:21:38, 80.82it/s]\u001b[A\n",
            "  3%|▎         | 72606/2505001 [22:28<8:34:48, 78.75it/s]\u001b[A\n",
            "  3%|▎         | 72615/2505001 [22:28<8:28:18, 79.76it/s]\u001b[A\n",
            "  3%|▎         | 72624/2505001 [22:28<8:24:27, 80.36it/s]\u001b[A\n",
            "  3%|▎         | 72633/2505001 [22:28<8:18:40, 81.29it/s]\u001b[A\n",
            "  3%|▎         | 72642/2505001 [22:28<8:16:08, 81.71it/s]\u001b[A\n",
            "  3%|▎         | 72651/2505001 [22:28<8:22:26, 80.69it/s]\u001b[A\n",
            "  3%|▎         | 72660/2505001 [22:28<8:38:10, 78.24it/s]\u001b[A\n",
            "  3%|▎         | 72668/2505001 [22:29<8:36:22, 78.51it/s]\u001b[A\n",
            "  3%|▎         | 72677/2505001 [22:29<8:21:28, 80.84it/s]\u001b[A\n",
            "  3%|▎         | 72686/2505001 [22:29<8:28:17, 79.75it/s]\u001b[A\n",
            "  3%|▎         | 72695/2505001 [22:29<8:22:35, 80.66it/s]\u001b[A\n",
            "  3%|▎         | 72704/2505001 [22:29<8:20:12, 81.04it/s]\u001b[A\n",
            "  3%|▎         | 72713/2505001 [22:29<8:14:32, 81.97it/s]\u001b[A\n",
            "  3%|▎         | 72722/2505001 [22:29<8:14:36, 81.96it/s]\u001b[A\n",
            "  3%|▎         | 72731/2505001 [22:29<8:23:09, 80.57it/s]\u001b[A\n",
            "  3%|▎         | 72740/2505001 [22:29<8:17:19, 81.51it/s]\u001b[A\n",
            "  3%|▎         | 72749/2505001 [22:30<8:24:37, 80.33it/s]\u001b[A\n",
            "  3%|▎         | 72758/2505001 [22:30<8:23:30, 80.51it/s]\u001b[A\n",
            "  3%|▎         | 72767/2505001 [22:30<8:44:54, 77.23it/s]\u001b[A\n",
            "  3%|▎         | 72776/2505001 [22:30<8:34:49, 78.74it/s]\u001b[A\n",
            "  3%|▎         | 72785/2505001 [22:30<8:25:40, 80.16it/s]\u001b[A\n",
            "  3%|▎         | 72794/2505001 [22:30<8:16:15, 81.69it/s]\u001b[A\n",
            "  3%|▎         | 72803/2505001 [22:30<8:19:53, 81.09it/s]\u001b[A\n",
            "  3%|▎         | 72812/2505001 [22:30<8:21:10, 80.88it/s]\u001b[A\n",
            "  3%|▎         | 72821/2505001 [22:30<8:18:50, 81.26it/s]\u001b[A\n",
            "  3%|▎         | 72830/2505001 [22:31<8:24:46, 80.31it/s]\u001b[A\n",
            "  3%|▎         | 72839/2505001 [22:31<8:11:27, 82.48it/s]\u001b[A\n",
            "  3%|▎         | 72848/2505001 [22:31<8:17:06, 81.54it/s]\u001b[A\n",
            "  3%|▎         | 72857/2505001 [22:31<8:17:06, 81.54it/s]\u001b[A\n",
            "  3%|▎         | 72866/2505001 [22:31<8:14:42, 81.94it/s]\u001b[A\n",
            "  3%|▎         | 72875/2505001 [22:31<8:13:07, 82.20it/s]\u001b[A\n",
            "  3%|▎         | 72884/2505001 [22:31<8:16:08, 81.70it/s]\u001b[A\n",
            "  3%|▎         | 72893/2505001 [22:31<8:16:44, 81.60it/s]\u001b[A\n",
            "  3%|▎         | 72902/2505001 [22:31<8:19:47, 81.10it/s]\u001b[A\n",
            "  3%|▎         | 72911/2505001 [22:32<8:29:00, 79.64it/s]\u001b[A\n",
            "  3%|▎         | 72920/2505001 [22:32<8:16:21, 81.66it/s]\u001b[A\n",
            "  3%|▎         | 72929/2505001 [22:32<8:24:10, 80.40it/s]\u001b[A\n",
            "  3%|▎         | 72938/2505001 [22:32<8:51:29, 76.26it/s]\u001b[A\n",
            "  3%|▎         | 72947/2505001 [22:32<8:36:13, 78.52it/s]\u001b[A\n",
            "  3%|▎         | 72955/2505001 [22:32<8:42:07, 77.63it/s]\u001b[A\n",
            "  3%|▎         | 72963/2505001 [22:32<8:44:56, 77.22it/s]\u001b[A\n",
            "  3%|▎         | 72972/2505001 [22:32<8:36:53, 78.42it/s]\u001b[A\n",
            "  3%|▎         | 72980/2505001 [22:32<8:41:01, 77.80it/s]\u001b[A\n",
            "  3%|▎         | 72988/2505001 [22:33<8:52:11, 76.16it/s]\u001b[A\n",
            "  3%|▎         | 72996/2505001 [22:33<8:51:07, 76.32it/s]\u001b[A\n",
            "  3%|▎         | 73004/2505001 [22:33<8:46:45, 76.95it/s]\u001b[A\n",
            "  3%|▎         | 73012/2505001 [22:33<8:50:59, 76.33it/s]\u001b[A\n",
            "  3%|▎         | 73021/2505001 [22:33<8:40:58, 77.80it/s]\u001b[A\n",
            "  3%|▎         | 73030/2505001 [22:33<8:31:26, 79.25it/s]\u001b[A\n",
            "  3%|▎         | 73039/2505001 [22:33<8:19:10, 81.20it/s]\u001b[A\n",
            "  3%|▎         | 73048/2505001 [22:33<8:23:10, 80.55it/s]\u001b[A\n",
            "  3%|▎         | 73057/2505001 [22:33<8:33:24, 78.95it/s]\u001b[A\n",
            "  3%|▎         | 73065/2505001 [22:34<8:36:54, 78.41it/s]\u001b[A\n",
            "  3%|▎         | 73074/2505001 [22:34<8:26:51, 79.97it/s]\u001b[A\n",
            "  3%|▎         | 73083/2505001 [22:34<8:24:30, 80.34it/s]\u001b[A\n",
            "  3%|▎         | 73092/2505001 [22:34<8:32:08, 79.14it/s]\u001b[A\n",
            "  3%|▎         | 73101/2505001 [22:34<8:23:13, 80.54it/s]\u001b[A\n",
            "  3%|▎         | 73110/2505001 [22:34<8:25:58, 80.11it/s]\u001b[A\n",
            "  3%|▎         | 73119/2505001 [22:34<8:28:11, 79.76it/s]\u001b[A\n",
            "  3%|▎         | 73127/2505001 [22:34<8:36:20, 78.50it/s]\u001b[A\n",
            "  3%|▎         | 73135/2505001 [22:34<8:42:42, 77.54it/s]\u001b[A\n",
            "  3%|▎         | 73143/2505001 [22:35<8:43:47, 77.38it/s]\u001b[A\n",
            "  3%|▎         | 73151/2505001 [22:35<8:41:57, 77.65it/s]\u001b[A\n",
            "  3%|▎         | 73159/2505001 [22:35<8:37:27, 78.33it/s]\u001b[A\n",
            "  3%|▎         | 73167/2505001 [22:35<8:37:56, 78.25it/s]\u001b[A\n",
            "  3%|▎         | 73175/2505001 [22:35<8:52:23, 76.13it/s]\u001b[A\n",
            "  3%|▎         | 73183/2505001 [22:35<8:52:43, 76.08it/s]\u001b[A\n",
            "  3%|▎         | 73191/2505001 [22:35<9:04:00, 74.50it/s]\u001b[A\n",
            "  3%|▎         | 73199/2505001 [22:35<8:56:54, 75.49it/s]\u001b[A\n",
            "  3%|▎         | 73207/2505001 [22:35<8:48:59, 76.62it/s]\u001b[A\n",
            "  3%|▎         | 73216/2505001 [22:35<8:36:22, 78.49it/s]\u001b[A\n",
            "  3%|▎         | 73224/2505001 [22:36<8:41:08, 77.77it/s]\u001b[A\n",
            "  3%|▎         | 73233/2505001 [22:36<8:34:55, 78.71it/s]\u001b[A\n",
            "  3%|▎         | 73241/2505001 [22:36<8:32:46, 79.04it/s]\u001b[A\n",
            "  3%|▎         | 73249/2505001 [22:36<8:50:00, 76.47it/s]\u001b[A\n",
            "  3%|▎         | 73258/2505001 [22:36<8:34:34, 78.76it/s]\u001b[A\n",
            "  3%|▎         | 73266/2505001 [22:36<8:42:09, 77.62it/s]\u001b[A\n",
            "  3%|▎         | 73274/2505001 [22:36<8:37:42, 78.28it/s]\u001b[A\n",
            "  3%|▎         | 73283/2505001 [22:36<8:22:42, 80.62it/s]\u001b[A\n",
            "  3%|▎         | 73292/2505001 [22:36<8:25:04, 80.24it/s]\u001b[A\n",
            "  3%|▎         | 73301/2505001 [22:37<8:28:15, 79.74it/s]\u001b[A\n",
            "  3%|▎         | 73310/2505001 [22:37<8:19:18, 81.17it/s]\u001b[A\n",
            "  3%|▎         | 73319/2505001 [22:37<8:19:54, 81.07it/s]\u001b[A\n",
            "  3%|▎         | 73328/2505001 [22:37<8:15:59, 81.71it/s]\u001b[A\n",
            "  3%|▎         | 73337/2505001 [22:37<8:31:03, 79.30it/s]\u001b[A\n",
            "  3%|▎         | 73345/2505001 [22:37<8:33:14, 78.96it/s]\u001b[A\n",
            "  3%|▎         | 73354/2505001 [22:37<8:21:07, 80.87it/s]\u001b[A\n",
            "  3%|▎         | 73363/2505001 [22:37<8:18:25, 81.31it/s]\u001b[A\n",
            "  3%|▎         | 73372/2505001 [22:37<8:26:36, 80.00it/s]\u001b[A\n",
            "  3%|▎         | 73381/2505001 [22:38<8:23:36, 80.47it/s]\u001b[A\n",
            "  3%|▎         | 73390/2505001 [22:38<8:19:28, 81.14it/s]\u001b[A\n",
            "  3%|▎         | 73399/2505001 [22:38<8:21:38, 80.79it/s]\u001b[A\n",
            "  3%|▎         | 73408/2505001 [22:38<8:26:45, 79.97it/s]\u001b[A\n",
            "  3%|▎         | 73417/2505001 [22:38<8:35:41, 78.59it/s]"
          ],
          "name": "stderr"
        }
      ]
    },
    {
      "cell_type": "markdown",
      "metadata": {
        "id": "7kPscxl8HQve"
      },
      "source": [
        "Agent is evaluated for 1 life, not for a whole episode of 5 lives. Rewards in evaluation are also truncated. Cuz this is what environment the agent is learning in and in this way mean rewards per life can be compared with initial state value\n",
        "\n",
        "**The goal is to get 10 points in the real env**. So 3 or more points in the preprocessed one will probably be enough. You can interrupt learning then."
      ]
    },
    {
      "cell_type": "markdown",
      "metadata": {
        "id": "QuJ4wglBHQve"
      },
      "source": [
        "Final scoring is done on a whole episode with all 5 lives."
      ]
    },
    {
      "cell_type": "code",
      "metadata": {
        "colab": {
          "base_uri": "https://localhost:8080/"
        },
        "id": "EBuhIHiPHQve",
        "outputId": "b4276065-9490-44ed-ea9a-06b0b6002427"
      },
      "source": [
        "final_score = evaluate(\n",
        "  make_env(clip_rewards=False, seed=9),\n",
        "    agent, n_games=30, greedy=True, t_max=10 * 1000\n",
        ") * n_lives\n",
        "print('final score:', final_score)\n",
        "assert final_score >= 10, 'not as cool as DQN can'\n",
        "print('Cool!')"
      ],
      "execution_count": 95,
      "outputs": [
        {
          "output_type": "stream",
          "text": [
            "final score: 15.0\n",
            "Cool!\n"
          ],
          "name": "stdout"
        }
      ]
    },
    {
      "cell_type": "markdown",
      "metadata": {
        "id": "s9wNgGYOHQve"
      },
      "source": [
        "## How to interpret plots:\n",
        "\n",
        "This aint no supervised learning so don't expect anything to improve monotonously. \n",
        "* **TD loss** is the MSE between agent's current Q-values and target Q-values. It may slowly increase or decrease, it's ok. The \"not ok\" behavior includes going NaN or stayng at exactly zero before agent has perfect performance.\n",
        "* **grad norm** just shows the intensivity of training. Not ok is growing to values of about 100 (or maybe even 50) though it depends on network architecture.\n",
        "* **mean reward** is the expected sum of r(s,a) agent gets over the full game session. It will oscillate, but on average it should get higher over time (after a few thousand iterations...). \n",
        " * In basic q-learning implementation it takes about 40k steps to \"warm up\" agent before it starts to get better.\n",
        "* **Initial state V** is the expected discounted reward for episode in the oppinion of the agent. It should behave more smoothly than **mean reward**. It should get higher over time but sometimes can experience drawdowns because of the agaent's overestimates.\n",
        "* **buffer size** - this one is simple. It should go up and cap at max size.\n",
        "* **epsilon** - agent's willingness to explore. If you see that agent's already at 0.01 epsilon before it's average reward is above 0 - it means you need to increase epsilon. Set it back to some 0.2 - 0.5 and decrease the pace at which it goes down.\n",
        "* Smoothing of plots is done with a gaussian kernel\n",
        "\n",
        "At first your agent will lose quickly. Then it will learn to suck less and at least hit the ball a few times before it loses. Finally it will learn to actually score points.\n",
        "\n",
        "**Training will take time.** A lot of it actually. Probably you will not see any improvment during first **150k** time steps (note that by default in this notebook agent is evaluated every 5000 time steps).\n",
        "\n",
        "But hey, long training time isn't _that_ bad:\n",
        "![img](https://github.com/yandexdataschool/Practical_RL/raw/master/yet_another_week/_resource/training.png)"
      ]
    },
    {
      "cell_type": "markdown",
      "metadata": {
        "id": "J1z-H8lxHQve"
      },
      "source": [
        "## About hyperparameters:\n",
        "\n",
        "The task has something in common with supervised learning: loss is optimized through the buffer (instead of Train dataset). But the distribution of states and actions in the buffer **is not stationary** and depends on the policy that generated it. It can even happen that the mean TD error across the buffer is very low but the performance is extremely poor (imagine the agent collecting data to the buffer always manages to avoid the ball).\n",
        "\n",
        "* Total timesteps and training time: It seems to be so huge, but actually it is normal for RL.\n",
        "\n",
        "* $\\epsilon$ decay shedule was taken from the original paper and is like traditional for epsilon-greedy policies. At the beginning of the training the agent's greedy policy is poor so many random actions should be taken.\n",
        "\n",
        "* Optimizer: In the original paper RMSProp was used (they did not have Adam in 2013) and it can work not worse than Adam. For us Adam was default and it worked.\n",
        "\n",
        "* lr: $10^{-3}$ would probably be too huge\n",
        "\n",
        "* batch size: This one can be very important: if it is too small the agent can fail to learn. Huge batch takes more time to process. If batch of size 8 can not be processed on the hardware you use take 2 (or even 4) batches of size 4, divide the loss on them by 2 (or 4) and make optimization step after both backward() calls in torch.\n",
        "\n",
        "* target network update frequency: has something in common with learning rate. Too frequent updates can lead to divergence. Too rare can lead to slow leraning. For millions of total timesteps thousands of inner steps seem ok. One iteration of target network updating is an iteration of the (this time approximate) $\\gamma$-compression that stands behind Q-learning. The more inner steps it makes the more accurate is the compression.\n",
        "* max_grad_norm - just huge enough. In torch clip_grad_norm also evaluates the norm before clipping and it can be convenient for logging."
      ]
    },
    {
      "cell_type": "markdown",
      "metadata": {
        "id": "iYCLYQf-HQvf"
      },
      "source": [
        "### Video"
      ]
    },
    {
      "cell_type": "code",
      "metadata": {
        "id": "tQbBSEMOHQvf"
      },
      "source": [
        "# Record sessions\n",
        "\n",
        "import gym.wrappers\n",
        "\n",
        "with gym.wrappers.Monitor(make_env(), directory=\"videos\", force=True) as env_monitor:\n",
        "    sessions = [evaluate(env_monitor, agent, n_games=n_lives, greedy=True) for _ in range(10)]"
      ],
      "execution_count": 96,
      "outputs": []
    },
    {
      "cell_type": "code",
      "metadata": {
        "colab": {
          "resources": {
            "http://localhost:8080/videos/openaigym.video.0.60.video000027.mp4": {
              "data": "CjwhRE9DVFlQRSBodG1sPgo8aHRtbCBsYW5nPWVuPgogIDxtZXRhIGNoYXJzZXQ9dXRmLTg+CiAgPG1ldGEgbmFtZT12aWV3cG9ydCBjb250ZW50PSJpbml0aWFsLXNjYWxlPTEsIG1pbmltdW0tc2NhbGU9MSwgd2lkdGg9ZGV2aWNlLXdpZHRoIj4KICA8dGl0bGU+RXJyb3IgNDA0IChOb3QgRm91bmQpISExPC90aXRsZT4KICA8c3R5bGU+CiAgICAqe21hcmdpbjowO3BhZGRpbmc6MH1odG1sLGNvZGV7Zm9udDoxNXB4LzIycHggYXJpYWwsc2Fucy1zZXJpZn1odG1se2JhY2tncm91bmQ6I2ZmZjtjb2xvcjojMjIyO3BhZGRpbmc6MTVweH1ib2R5e21hcmdpbjo3JSBhdXRvIDA7bWF4LXdpZHRoOjM5MHB4O21pbi1oZWlnaHQ6MTgwcHg7cGFkZGluZzozMHB4IDAgMTVweH0qID4gYm9keXtiYWNrZ3JvdW5kOnVybCgvL3d3dy5nb29nbGUuY29tL2ltYWdlcy9lcnJvcnMvcm9ib3QucG5nKSAxMDAlIDVweCBuby1yZXBlYXQ7cGFkZGluZy1yaWdodDoyMDVweH1we21hcmdpbjoxMXB4IDAgMjJweDtvdmVyZmxvdzpoaWRkZW59aW5ze2NvbG9yOiM3Nzc7dGV4dC1kZWNvcmF0aW9uOm5vbmV9YSBpbWd7Ym9yZGVyOjB9QG1lZGlhIHNjcmVlbiBhbmQgKG1heC13aWR0aDo3NzJweCl7Ym9keXtiYWNrZ3JvdW5kOm5vbmU7bWFyZ2luLXRvcDowO21heC13aWR0aDpub25lO3BhZGRpbmctcmlnaHQ6MH19I2xvZ297YmFja2dyb3VuZDp1cmwoLy93d3cuZ29vZ2xlLmNvbS9pbWFnZXMvbG9nb3MvZXJyb3JwYWdlL2Vycm9yX2xvZ28tMTUweDU0LnBuZykgbm8tcmVwZWF0O21hcmdpbi1sZWZ0Oi01cHh9QG1lZGlhIG9ubHkgc2NyZWVuIGFuZCAobWluLXJlc29sdXRpb246MTkyZHBpKXsjbG9nb3tiYWNrZ3JvdW5kOnVybCgvL3d3dy5nb29nbGUuY29tL2ltYWdlcy9sb2dvcy9lcnJvcnBhZ2UvZXJyb3JfbG9nby0xNTB4NTQtMngucG5nKSBuby1yZXBlYXQgMCUgMCUvMTAwJSAxMDAlOy1tb3otYm9yZGVyLWltYWdlOnVybCgvL3d3dy5nb29nbGUuY29tL2ltYWdlcy9sb2dvcy9lcnJvcnBhZ2UvZXJyb3JfbG9nby0xNTB4NTQtMngucG5nKSAwfX1AbWVkaWEgb25seSBzY3JlZW4gYW5kICgtd2Via2l0LW1pbi1kZXZpY2UtcGl4ZWwtcmF0aW86Mil7I2xvZ297YmFja2dyb3VuZDp1cmwoLy93d3cuZ29vZ2xlLmNvbS9pbWFnZXMvbG9nb3MvZXJyb3JwYWdlL2Vycm9yX2xvZ28tMTUweDU0LTJ4LnBuZykgbm8tcmVwZWF0Oy13ZWJraXQtYmFja2dyb3VuZC1zaXplOjEwMCUgMTAwJX19I2xvZ297ZGlzcGxheTppbmxpbmUtYmxvY2s7aGVpZ2h0OjU0cHg7d2lkdGg6MTUwcHh9CiAgPC9zdHlsZT4KICA8YSBocmVmPS8vd3d3Lmdvb2dsZS5jb20vPjxzcGFuIGlkPWxvZ28gYXJpYS1sYWJlbD1Hb29nbGU+PC9zcGFuPjwvYT4KICA8cD48Yj40MDQuPC9iPiA8aW5zPlRoYXTigJlzIGFuIGVycm9yLjwvaW5zPgogIDxwPiAgPGlucz5UaGF04oCZcyBhbGwgd2Uga25vdy48L2lucz4K",
              "ok": false,
              "headers": [
                [
                  "content-length",
                  "1449"
                ],
                [
                  "content-type",
                  "text/html; charset=utf-8"
                ]
              ],
              "status": 404,
              "status_text": ""
            }
          },
          "base_uri": "https://localhost:8080/",
          "height": 500
        },
        "id": "OtxoMut6HQvf",
        "outputId": "5c36a28e-f8d8-450d-e3d8-5fbaa1d76206"
      },
      "source": [
        "# Show video. This may not work in some setups. If it doesn't\n",
        "# work for you, you can download the videos and view them locally.\n",
        "\n",
        "from pathlib import Path\n",
        "from IPython.display import HTML\n",
        "\n",
        "video_names = sorted([s for s in Path('videos').iterdir() if s.suffix == '.mp4'])\n",
        "\n",
        "HTML(\"\"\"\n",
        "<video width=\"640\" height=\"480\" controls>\n",
        "  <source src=\"{}\" type=\"video/mp4\">\n",
        "</video>\n",
        "\"\"\".format(video_names[-1]))  # You can also try other indices"
      ],
      "execution_count": 97,
      "outputs": [
        {
          "output_type": "execute_result",
          "data": {
            "text/html": [
              "\n",
              "<video width=\"640\" height=\"480\" controls>\n",
              "  <source src=\"videos/openaigym.video.0.60.video000027.mp4\" type=\"video/mp4\">\n",
              "</video>\n"
            ],
            "text/plain": [
              "<IPython.core.display.HTML object>"
            ]
          },
          "metadata": {
            "tags": []
          },
          "execution_count": 97
        }
      ]
    },
    {
      "cell_type": "markdown",
      "metadata": {
        "id": "o22iRNGyHQvf"
      },
      "source": [
        "## Submit to Coursera"
      ]
    },
    {
      "cell_type": "code",
      "metadata": {
        "colab": {
          "base_uri": "https://localhost:8080/"
        },
        "id": "fSvWLn-vHQvf",
        "outputId": "fc3a68fc-5724-4c8a-f65c-69d205b45d55"
      },
      "source": [
        "from submit import submit_breakout\n",
        "env = make_env()\n",
        "submit_breakout(agent, env, evaluate, 'aepuertol@unal.edu.co', 'VM6w3QfipZnMJDG0')"
      ],
      "execution_count": 98,
      "outputs": [
        {
          "output_type": "stream",
          "text": [
            "Your average reward is 0.71 over 100 episodes\n",
            "Submitted to Coursera platform. See results on assignment page!\n"
          ],
          "name": "stdout"
        }
      ]
    },
    {
      "cell_type": "markdown",
      "metadata": {
        "id": "RFY9nK50HQvg"
      },
      "source": [
        "```\n",
        "```\n",
        "```\n",
        "```\n",
        "```\n",
        "```\n",
        "\n",
        "\n",
        "\n",
        "\n",
        "\n",
        "\n",
        "## Let's have a closer look at this.\n",
        "\n",
        "If average episode score is below 200 using all 5 lives, then probably DQN has not converged fully. But anyway let's make a more complete record of an episode."
      ]
    },
    {
      "cell_type": "code",
      "metadata": {
        "id": "KVae7uUBHQvg"
      },
      "source": [
        "eval_env = make_env(clip_rewards=False)\n",
        "record = utils.play_and_log_episode(eval_env, agent)\n",
        "print('total reward for life:', np.sum(record['rewards']))\n",
        "for key in record:\n",
        "    print(key)"
      ],
      "execution_count": null,
      "outputs": []
    },
    {
      "cell_type": "code",
      "metadata": {
        "id": "Y2hWRaqoHQvg"
      },
      "source": [
        "fig = plt.figure(figsize=(5, 5))\n",
        "ax = fig.add_subplot(1, 1, 1)\n",
        "\n",
        "ax.scatter(record['v_mc'], record['v_agent'])\n",
        "ax.plot(sorted(record['v_mc']), sorted(record['v_mc']),\n",
        "       'black', linestyle='--', label='x=y')\n",
        "\n",
        "ax.grid()\n",
        "ax.legend()\n",
        "ax.set_title('State Value Estimates')\n",
        "ax.set_xlabel('Monte-Carlo')\n",
        "ax.set_ylabel('Agent')\n",
        "\n",
        "plt.show()"
      ],
      "execution_count": null,
      "outputs": []
    },
    {
      "cell_type": "markdown",
      "metadata": {
        "id": "UOtBF8lIHQvg"
      },
      "source": [
        "$\\hat V_{Monte-Carlo}(s_t) = \\sum_{\\tau=0}^{episode~end} \\gamma^{\\tau-t}r_t$"
      ]
    },
    {
      "cell_type": "markdown",
      "metadata": {
        "id": "qwSRyWJTHQvg"
      },
      "source": [
        "Is there a big bias? It's ok, anyway it works."
      ]
    },
    {
      "cell_type": "markdown",
      "metadata": {
        "id": "9qW9wDAIHQvh"
      },
      "source": [
        "## More\n",
        "\n",
        "If you want to play with DQN a bit more, here's a list of things you can try with it:\n",
        "\n",
        "### Easy:\n",
        "* Implementing __double q-learning__ shouldn't be a problem if you've already have target networks in place.\n",
        "  * You will probably need `tf.argmax` to select best actions\n",
        "  * Here's an original [article](https://arxiv.org/abs/1509.06461)\n",
        "\n",
        "* __Dueling__ architecture is also quite straightforward if you have standard DQN.\n",
        "  * You will need to change network architecture, namely the q-values layer\n",
        "  * It must now contain two heads: V(s) and A(s,a), both dense layers\n",
        "  * You should then add them up via elemwise sum layer.\n",
        "  * Here's an [article](https://arxiv.org/pdf/1511.06581.pdf)"
      ]
    },
    {
      "cell_type": "markdown",
      "metadata": {
        "id": "mT0VEyAqHQvh"
      },
      "source": [
        "### Hard: Prioritized experience replay\n",
        "\n",
        "In this section, you're invited to implement prioritized experience replay\n",
        "\n",
        "* You will probably need to provide a custom data structure\n",
        "* Once pool.update is called, collect the pool.experience_replay.observations, actions, rewards and is_alive and store them in your data structure\n",
        "* You can now sample such transitions in proportion to the error (see [article](https://arxiv.org/abs/1511.05952)) for training.\n",
        "\n",
        "It's probably more convenient to explicitly declare inputs for \"sample observations\", \"sample actions\" and so on to plug them into q-learning.\n",
        "\n",
        "Prioritized (and even normal) experience replay should greatly reduce amount of game sessions you need to play in order to achieve good performance. \n",
        "\n",
        "While it's effect on runtime is limited for atari, more complicated envs (further in the course) will certainly benefit for it.\n",
        "\n",
        "There is even more out there - see this [overview article](https://arxiv.org/abs/1710.02298)."
      ]
    }
  ]
}